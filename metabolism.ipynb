{
 "cells": [
  {
   "cell_type": "markdown",
   "id": "bb214264-17c9-4b46-b293-38012a59e432",
   "metadata": {},
   "source": [
    "# Anthropogenic heat from human metabolism"
   ]
  },
  {
   "cell_type": "markdown",
   "id": "f8809a69-516e-4f09-9a0b-873ed7ca94e3",
   "metadata": {},
   "source": [
    "This notebook is used to process population data, and ultimately produce the anthropogenic heat flux (AHF) from human metabolism for the Greater Los Angeles (LA) region."
   ]
  },
  {
   "cell_type": "code",
   "execution_count": 1,
   "id": "f1c2d092-01a3-48e4-8004-6c05a65c0c4d",
   "metadata": {},
   "outputs": [],
   "source": [
    "# load packages \n",
    "%matplotlib inline\n",
    "import os\n",
    "import glob\n",
    "from pathlib import Path\n",
    "import zipfile\n",
    "import pandas as pd\n",
    "import matplotlib.pyplot as plt\n",
    "#import requests\n",
    "import geopandas as gpd\n",
    "import pyproj\n",
    "import shapely.geometry\n",
    "import contextily as ctx\n",
    "from matplotlib.ticker import FormatStrFormatter\n",
    "import geofeather\n",
    "import dask_geopandas as dgpd\n",
    "import pyogrio\n",
    "import folium\n",
    "import numpy as np"
   ]
  },
  {
   "cell_type": "code",
   "execution_count": 14,
   "id": "989f8b5f-62aa-4fdb-a401-d5d3519f61dc",
   "metadata": {},
   "outputs": [],
   "source": [
    "# define paths to data\n",
    "acs_folder = Path('/Users/josephko/USC/Research/Anthropogenic Heat/census/acs')\n",
    "ctpp_folder = Path('/Users/josephko/USC/Research/Anthropogenic Heat/census/ctpp')\n",
    "bounds_folder = Path('/Users/josephko/USC/Research/Anthropogenic Heat/boundaries')"
   ]
  },
  {
   "cell_type": "code",
   "execution_count": 73,
   "id": "c654e4b4-80ad-47a1-945c-6dd50393a148",
   "metadata": {},
   "outputs": [],
   "source": [
    "# import Census-based ACS data and CTPP data\n",
    "\"\"\"\n",
    "ACS = american community survey\n",
    "CTPP = census transportation planning products program\n",
    "- CTPP data is derived from ACS data\n",
    "- 5-yr data (2012-2016) is used\n",
    "- all data below is aggregated to census tract\n",
    "\"\"\"\n",
    "# import total population (from ACS table B01003)\n",
    "total_pop_path = acs_folder / 'ACSDT5Y2016.B01003_2022-04-18T013603' / 'ACSDT5Y2016.B01003_data_clean.csv'\n",
    "total_pop = pd.read_csv(total_pop_path)\n",
    "\n",
    "# import total workers living in area (from ACS table B08008)\n",
    "total_workers_living_path = acs_folder / 'ACSDT5Y2016.B08008_2022-04-18T115010' / 'ACSDT5Y2016.B08008_data_clean.csv'\n",
    "total_workers_living = pd.read_csv(total_workers_living_path)\n",
    "\n",
    "# import total workers working in area (from CTPP)\n",
    "total_workers_working_path = ctpp_folder / 'total_workers_lacounty_tract.csv'\n",
    "total_workers_working = pd.read_csv(total_workers_working_path)\n",
    "\n",
    "# import california census tracts shapefile\n",
    "tract_bounds_path = bounds_folder / 'ca_2016_census_tracts.zip'\n",
    "tract_bounds = gpd.read_file(tract_bounds_path)"
   ]
  },
  {
   "cell_type": "code",
   "execution_count": 74,
   "id": "4fe71b9d-670c-4377-9f1d-97a156009a2f",
   "metadata": {},
   "outputs": [],
   "source": [
    "# rename columns of dataframes for further merging \n",
    "total_workers_working.rename(columns={'WORKPLACE':'NAME'}, inplace=True)\n",
    "\n",
    "tract_bounds.rename(columns={'AFFGEOID':'GEO_ID'}, inplace=True)"
   ]
  },
  {
   "cell_type": "code",
   "execution_count": 81,
   "id": "dfaa37bf-e87b-423b-9d2d-8acc2f5d61e4",
   "metadata": {},
   "outputs": [],
   "source": [
    "# merge 'total population' with 'total workers living in area'\n",
    "cols_to_use = total_workers_living.columns.difference(total_pop.columns).to_list()\n",
    "cols_to_use.append('GEO_ID')\n",
    "total_pop_merge_workers_living = total_pop.merge(total_workers_living[cols_to_use], on = 'GEO_ID', how = 'inner')\n",
    "\n",
    "# continue merging with 'total workers working in area'\n",
    "total_pop_workers_living_working = total_pop_merge_workers_living.merge(total_workers_working, on='NAME', how='inner')\n",
    "\n",
    "# final merge with census tract boundaries\n",
    "final_merged_gdf = tract_bounds.merge(total_pop_workers_living_working, on='GEO_ID', how='right')\n"
   ]
  },
  {
   "cell_type": "code",
   "execution_count": 89,
   "id": "35773494-4519-4de6-80a7-50ef37923bf0",
   "metadata": {},
   "outputs": [
    {
     "data": {
      "text/plain": [
       "'\\nNote: The final_merged_gdf has two less records because Census tracts 9901 and 9902 are dropped. \\n- these census tracts have populations of zero\\n- likely census tracts off the coast and therefore not included in the original CA census tracts shapefile\\n'"
      ]
     },
     "execution_count": 89,
     "metadata": {},
     "output_type": "execute_result"
    }
   ],
   "source": [
    "\"\"\"\n",
    "Note: The final_merged_gdf has two less records because Census tracts 9901 and 9902 are dropped. \n",
    "- these census tracts have populations of zero\n",
    "- likely census tracts off the coast and therefore not included in the original CA census tracts shapefile\n",
    "\"\"\"\n",
    "# final_merged_gdf.shape\n",
    "# final_merged_gdf[final_merged_gdf.geometry==None]\n",
    "# total_pop[total_pop.GEO_ID == '1400000US06037990200']"
   ]
  },
  {
   "cell_type": "code",
   "execution_count": null,
   "id": "6880fbe7-e0c5-4f21-8e56-5d1f155765f6",
   "metadata": {},
   "outputs": [],
   "source": []
  },
  {
   "cell_type": "code",
   "execution_count": null,
   "id": "6d999850-9bff-48c2-ba8a-1dce7e9442a8",
   "metadata": {},
   "outputs": [],
   "source": []
  },
  {
   "cell_type": "code",
   "execution_count": null,
   "id": "6f6910e8-957b-472b-ba7d-87178f6714d0",
   "metadata": {},
   "outputs": [],
   "source": []
  },
  {
   "cell_type": "code",
   "execution_count": null,
   "id": "05c99af9-6f32-4cbf-a071-8d95a40b2dbc",
   "metadata": {},
   "outputs": [],
   "source": []
  },
  {
   "cell_type": "code",
   "execution_count": null,
   "id": "4c70ad50-32aa-4622-8bd1-7707de4f8b40",
   "metadata": {},
   "outputs": [],
   "source": []
  },
  {
   "cell_type": "code",
   "execution_count": null,
   "id": "d38b58f2-fc8c-4c2a-9d41-223552b6a774",
   "metadata": {},
   "outputs": [],
   "source": [
    "\"\"\"\n",
    "https://www.census.gov/topics/employment/commuting/guidance/calculations.html\n",
    "\"\"\""
   ]
  },
  {
   "cell_type": "code",
   "execution_count": null,
   "id": "6d920751-c71a-4346-bf23-1d47e3d356e7",
   "metadata": {},
   "outputs": [],
   "source": []
  }
 ],
 "metadata": {
  "kernelspec": {
   "display_name": "Python [conda env:geo_env]",
   "language": "python",
   "name": "conda-env-geo_env-py"
  },
  "language_info": {
   "codemirror_mode": {
    "name": "ipython",
    "version": 3
   },
   "file_extension": ".py",
   "mimetype": "text/x-python",
   "name": "python",
   "nbconvert_exporter": "python",
   "pygments_lexer": "ipython3",
   "version": "3.10.2"
  }
 },
 "nbformat": 4,
 "nbformat_minor": 5
}
