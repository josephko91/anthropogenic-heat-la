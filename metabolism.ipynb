{
 "cells": [
  {
   "cell_type": "markdown",
   "id": "bb214264-17c9-4b46-b293-38012a59e432",
   "metadata": {},
   "source": [
    "# Anthropogenic heat from human metabolism"
   ]
  },
  {
   "cell_type": "markdown",
   "id": "f8809a69-516e-4f09-9a0b-873ed7ca94e3",
   "metadata": {},
   "source": [
    "This notebook is used to process population data, and ultimately produce the anthropogenic heat flux (AHF) from human metabolism for the Greater Los Angeles (LA) region."
   ]
  },
  {
   "cell_type": "code",
   "execution_count": null,
   "id": "f1c2d092-01a3-48e4-8004-6c05a65c0c4d",
   "metadata": {},
   "outputs": [],
   "source": [
    "# load packages \n",
    "%matplotlib inline\n",
    "import os\n",
    "import glob\n",
    "from pathlib import Path\n",
    "import zipfile\n",
    "import pandas as pd\n",
    "import matplotlib.pyplot as plt\n",
    "#import requests\n",
    "import geopandas as gpd\n",
    "import pyproj\n",
    "import shapely.geometry\n",
    "import contextily as ctx\n",
    "from matplotlib.ticker import FormatStrFormatter\n",
    "import geofeather\n",
    "import dask_geopandas as dgpd\n",
    "import pyogrio\n",
    "import folium\n",
    "import numpy as np"
   ]
  },
  {
   "cell_type": "code",
   "execution_count": null,
   "id": "989f8b5f-62aa-4fdb-a401-d5d3519f61dc",
   "metadata": {},
   "outputs": [],
   "source": []
  },
  {
   "cell_type": "code",
   "execution_count": null,
   "id": "c654e4b4-80ad-47a1-945c-6dd50393a148",
   "metadata": {},
   "outputs": [],
   "source": []
  },
  {
   "cell_type": "code",
   "execution_count": null,
   "id": "d38b58f2-fc8c-4c2a-9d41-223552b6a774",
   "metadata": {},
   "outputs": [],
   "source": []
  },
  {
   "cell_type": "code",
   "execution_count": null,
   "id": "6d920751-c71a-4346-bf23-1d47e3d356e7",
   "metadata": {},
   "outputs": [],
   "source": []
  }
 ],
 "metadata": {
  "kernelspec": {
   "display_name": "Python [conda env:geo_env]",
   "language": "python",
   "name": "conda-env-geo_env-py"
  },
  "language_info": {
   "codemirror_mode": {
    "name": "ipython",
    "version": 3
   },
   "file_extension": ".py",
   "mimetype": "text/x-python",
   "name": "python",
   "nbconvert_exporter": "python",
   "pygments_lexer": "ipython3",
   "version": "3.10.2"
  }
 },
 "nbformat": 4,
 "nbformat_minor": 5
}
