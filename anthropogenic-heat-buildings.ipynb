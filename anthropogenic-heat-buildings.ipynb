{
 "cells": [
  {
   "cell_type": "markdown",
   "id": "5db80ce4",
   "metadata": {},
   "source": [
    "# Anthropogenic heat from buildings"
   ]
  },
  {
   "cell_type": "markdown",
   "id": "cb87a6f4",
   "metadata": {},
   "source": [
    "This notebook is used to process building energy use, analyze data, and ultimately produce the anthropogenic heat flux (AHF) from buildings for the Greater Los Angeles (LA) region."
   ]
  },
  {
   "cell_type": "code",
   "execution_count": null,
   "id": "cc900c8b",
   "metadata": {},
   "outputs": [],
   "source": [
    "# load packages \n",
    "%matplotlib inline\n",
    "import os\n",
    "from pathlib import Path\n",
    "import zipfile\n",
    "import pandas as pd\n",
    "import matplotlib.pyplot as plt\n",
    "#import requests\n",
    "import geopandas as gpd\n",
    "import pyproj\n",
    "import shapely.geometry\n",
    "import contextily as ctx\n",
    "from matplotlib.ticker import FormatStrFormatter\n",
    "import geofeather\n",
    "import dask_geopandas as dgpd\n",
    "import pyogrio"
   ]
  },
  {
   "cell_type": "markdown",
   "id": "93541e72-7678-45ea-ae0b-5d729d416f43",
   "metadata": {},
   "source": [
    "## TESTS"
   ]
  },
  {
   "cell_type": "code",
   "execution_count": null,
   "id": "fe62a267-3eaf-4e3a-a6e2-449ec419a738",
   "metadata": {},
   "outputs": [],
   "source": [
    "%%time\n",
    "# regular geopandas\n",
    "parcels_usc_dir = '/Users/josephko/USC/Research/Anthropogenic Heat/boundaries/LA_County_Parcels_usc.geojson'\n",
    "parcels_usc_df = gpd.read_file(parcels_usc_dir)"
   ]
  },
  {
   "cell_type": "code",
   "execution_count": null,
   "id": "1500d433-ad4b-4115-ba0d-f6bb215bc87c",
   "metadata": {},
   "outputs": [],
   "source": [
    "%%time\n",
    "# dask geopandas\n",
    "parcels_usc_dir = '/Users/josephko/USC/Research/Anthropogenic Heat/boundaries/LA_County_Parcels.gpkg'\n",
    "parcels_usc_df = dgpd.read_file(parcels_usc_dir, npartitions = 1000)"
   ]
  },
  {
   "cell_type": "code",
   "execution_count": null,
   "id": "ff35c9b0-7c15-42ce-afe7-6fe033e3b941",
   "metadata": {},
   "outputs": [],
   "source": [
    "parcels_usc_df.columns"
   ]
  },
  {
   "cell_type": "code",
   "execution_count": null,
   "id": "dc15bbf3-27f3-4de0-a657-c66b4b264f30",
   "metadata": {},
   "outputs": [],
   "source": [
    "%%time\n",
    "#100 partitions\n",
    "partition_0 = parcels_usc_df.partitions[0].compute()"
   ]
  },
  {
   "cell_type": "code",
   "execution_count": null,
   "id": "5714461f-6639-4583-bbe8-82dfc3c665f3",
   "metadata": {},
   "outputs": [],
   "source": [
    "%%time\n",
    "#1000 partitions\n",
    "partition_0 = parcels_usc_df.partitions[0].compute()"
   ]
  },
  {
   "cell_type": "code",
   "execution_count": null,
   "id": "9e0bd99b-4f93-411b-b7d8-8c6528c9279b",
   "metadata": {},
   "outputs": [],
   "source": [
    "partition_0.plot()"
   ]
  },
  {
   "cell_type": "code",
   "execution_count": null,
   "id": "0aba5f3f-1731-46c8-a5b6-b3369d2cc52e",
   "metadata": {},
   "outputs": [],
   "source": [
    "parcels_neighborhoods = parcels_usc_df.sjoin(neighborhoods)\n"
   ]
  },
  {
   "cell_type": "code",
   "execution_count": null,
   "id": "502148ab-a3d4-47aa-ae90-0e814c564718",
   "metadata": {},
   "outputs": [],
   "source": [
    "parcels_indexed_by_hoods = parcels_neighborhoods.set_index('name')"
   ]
  },
  {
   "cell_type": "code",
   "execution_count": null,
   "id": "70f9eb01-54ab-4978-81ba-5ac31fe5ab54",
   "metadata": {},
   "outputs": [],
   "source": [
    "list(test.columns)"
   ]
  },
  {
   "cell_type": "code",
   "execution_count": null,
   "id": "cc177afc-7029-44ad-9864-db731240581c",
   "metadata": {},
   "outputs": [],
   "source": [
    "neighborhoods.columns"
   ]
  },
  {
   "cell_type": "code",
   "execution_count": null,
   "id": "66300b3a-8f04-48b6-ba5f-02203447a4eb",
   "metadata": {},
   "outputs": [],
   "source": [
    "# test clip with small polygons (University Park + Adams-Normandie)\n",
    "df_clipped = parcels_usc_df.clip(neighborhoods_2)"
   ]
  },
  {
   "cell_type": "code",
   "execution_count": null,
   "id": "8e67dbb8-350f-42bc-9eef-8ccf44c3f5ff",
   "metadata": {},
   "outputs": [],
   "source": [
    "df_clipped = df_clipped.compute()"
   ]
  },
  {
   "cell_type": "code",
   "execution_count": null,
   "id": "e35b69ae-7c65-41fa-80f0-dfabe4e5694d",
   "metadata": {},
   "outputs": [],
   "source": [
    "ddf_filtered.memory_usage(deep=True).sum().compute()"
   ]
  },
  {
   "cell_type": "code",
   "execution_count": null,
   "id": "acbda098-1a34-44a6-ab3f-315e7cc82858",
   "metadata": {},
   "outputs": [],
   "source": [
    "ddf_filtered = parcels_usc_df.loc[parcels_usc_df[\"OBJECTID\"] < 10]\n",
    "df_filtered = ddf_filtered.compute()\n",
    "df_filtered"
   ]
  },
  {
   "cell_type": "markdown",
   "id": "00c35bc9",
   "metadata": {
    "jp-MarkdownHeadingCollapsed": true,
    "tags": []
   },
   "source": [
    "## Import data from data repositories"
   ]
  },
  {
   "cell_type": "markdown",
   "id": "a2a8eec4",
   "metadata": {},
   "source": [
    "Download Energy Atlas data from Kaggle repo (if not already in local directory)"
   ]
  },
  {
   "cell_type": "code",
   "execution_count": null,
   "id": "71194905",
   "metadata": {},
   "outputs": [],
   "source": [
    "energy_atlas_data_path = Path('data/energy_atlas')\n",
    "if not os.path.isdir(energy_atlas_data_path): # if data directory does not exist (i.e., data not downloaded yet)\n",
    "    # initialize kaggle API\n",
    "    from kaggle.api.kaggle_api_extended import KaggleApi\n",
    "    api = KaggleApi()\n",
    "    api.authenticate()\n",
    "\n",
    "    # download from my Kaggle dataset page\n",
    "    dataset = 'josephko/la-energy-atlas-2016'\n",
    "    download_path = Path('data/energy_atlas')\n",
    "    api.dataset_download_files(dataset, download_path) # downloads all data in zip file\n",
    "    \n",
    "    # unzip and remove zip file\n",
    "    zip_file = download_path / 'la-energy-atlas-2016.zip'\n",
    "    with zipfile.ZipFile(zip_file) as file:\n",
    "        file.extractall(download_path)\n",
    "    os.remove(zip_file)\n"
   ]
  },
  {
   "cell_type": "markdown",
   "id": "38a71ae5-212d-4285-bade-ba68f7883dfd",
   "metadata": {},
   "source": [
    "Import Energy Atlas data into dataframes"
   ]
  },
  {
   "cell_type": "code",
   "execution_count": null,
   "id": "287f9b2e-e117-4609-afaf-54aa5113925f",
   "metadata": {},
   "outputs": [],
   "source": [
    "usage_file = energy_atlas_data_path / 'usage_bld_btu.csv'\n",
    "usage_bld_btu = pd.read_csv(usage_file, na_values = ['masked'])\n",
    "#usage_bld_btu = usage_bld_btu.loc[usage_bld_btu['usage'] != 'masked'].copy()\n",
    "\n",
    "# # TESTING \n",
    "# cols = usage_bld_btu.columns.drop(['geo_id', 'usetype', 'name'])\n",
    "# usage_bld_btu.loc[:,cols] = usage_bld_btu.loc[:, cols].apply(pd.to_numeric, errors = 'coerce')\n",
    "\n",
    "usage_bld_btu"
   ]
  },
  {
   "cell_type": "code",
   "execution_count": null,
   "id": "2e9631e4-7bbb-4eb6-b706-4859ff82793b",
   "metadata": {},
   "outputs": [],
   "source": [
    "usage_bld_btu.dtypes"
   ]
  },
  {
   "cell_type": "markdown",
   "id": "4106b73e-c994-4467-bfa2-e08183da9862",
   "metadata": {},
   "source": [
    "Import geos.csv which has auxiliary information e.g., city names"
   ]
  },
  {
   "cell_type": "code",
   "execution_count": null,
   "id": "1d9e756e-034c-4444-bed1-9ebb899b7d60",
   "metadata": {},
   "outputs": [],
   "source": [
    "geos_file = energy_atlas_data_path / 'geos.csv'\n",
    "geos = pd.read_csv(geos_file, na_values = ['NaN'])\n",
    "geos"
   ]
  },
  {
   "cell_type": "markdown",
   "id": "d401c383-e609-41b6-af94-cb59d5e4b554",
   "metadata": {},
   "source": [
    "Merge consumption data with geos information, and also add additional useful columns"
   ]
  },
  {
   "cell_type": "code",
   "execution_count": null,
   "id": "20cd7455-a84b-49a0-960e-2d395f1c1f56",
   "metadata": {},
   "outputs": [],
   "source": [
    "usage_bld = pd.merge(usage_bld_btu, geos, how='left', on = 'geo_id')\n",
    "usage_bld.columns"
   ]
  },
  {
   "cell_type": "markdown",
   "id": "50c73da5-0f93-48d9-826a-2be3d26f2c6d",
   "metadata": {
    "jp-MarkdownHeadingCollapsed": true,
    "tags": []
   },
   "source": [
    "## Import building footpring (LARIAC) and parcels data"
   ]
  },
  {
   "cell_type": "markdown",
   "id": "61f92124-8ecc-4537-8898-a963c0f2f5d8",
   "metadata": {},
   "source": [
    "IMPORTANT NOTE:<br>\n",
    "LARIAC height and area (i.e., building footprint) area in units of FEET not meters"
   ]
  },
  {
   "cell_type": "markdown",
   "id": "f54ff988-770e-4fb8-a3e2-ce88d263f45c",
   "metadata": {},
   "source": [
    "Loading the whole LARIAC and parcels datasets takes a lot of memory. \n",
    "For now, load sample LARIAC and parcels for the University Park (USC) subset. "
   ]
  },
  {
   "cell_type": "code",
   "execution_count": null,
   "id": "6688d229-5f57-4463-99e2-2f14abc665dc",
   "metadata": {},
   "outputs": [],
   "source": [
    "\"\"\"\n",
    "Note: the shape_area and shape_length attributes are INCORRECT when downloaded from https://geohub.lacity.org/datasets/lacounty::lariac5-buildings-2017\n",
    "Need to delete those columns are re-calculate shape area based on geometry\n",
    "\"\"\"\n",
    "lariac_usc_dir = '/Users/josephko/USC/Research/Anthropogenic Heat/lariac/Countywide_Building_Outlines_2017_usc.geojson'\n",
    "lariac_usc_df = gpd.read_file(lariac_dir)"
   ]
  },
  {
   "cell_type": "code",
   "execution_count": null,
   "id": "b3d07209-3cef-469b-9ccb-ae49436325a2",
   "metadata": {},
   "outputs": [],
   "source": [
    "#lariac_usc_df.explore()"
   ]
  },
  {
   "cell_type": "code",
   "execution_count": null,
   "id": "42c0a22f-570f-42a6-9a81-64a7fceb02df",
   "metadata": {},
   "outputs": [],
   "source": [
    "\"\"\"\n",
    "How to use ArcGIS REST API to query data\n",
    "2000 data features limit.\n",
    "Need to loop to get all data.\n",
    "\"\"\"\n",
    "# url = 'https://services.arcgis.com/RmCCgQtiZLDCtblq/arcgis/rest/services/Countywide_Building_Outlines_(2017)/FeatureServer/0/query?where=1%3D1&outFields=*&outSR=4326&f=json&resultOffset=3262000'\n",
    "# test = gpd.read_file(url)\n",
    "# test.head()"
   ]
  },
  {
   "cell_type": "code",
   "execution_count": null,
   "id": "fd8fe099-3310-4271-abd1-2d5c22fd751b",
   "metadata": {},
   "outputs": [],
   "source": [
    "parcels_usc_dir = '/Users/josephko/USC/Research/Anthropogenic Heat/boundaries/LA_County_Parcels_usc.geojson'\n",
    "parcels_usc_df = gpd.read_file(parcels_usc_dir, na_values = ['masked'])\n",
    "parcels_usc_df.plot()"
   ]
  },
  {
   "cell_type": "markdown",
   "id": "6563a963-4890-4a3e-baab-e7e6f9e87e05",
   "metadata": {},
   "source": [
    "Filter columns to reduce clutter"
   ]
  },
  {
   "cell_type": "code",
   "execution_count": null,
   "id": "66298166-3343-4f90-bc71-33960f722ee4",
   "metadata": {},
   "outputs": [],
   "source": [
    "#lariac_usc_df.head()"
   ]
  },
  {
   "cell_type": "code",
   "execution_count": null,
   "id": "d53ebe6b-9192-44dc-bb8d-459f82a90873",
   "metadata": {},
   "outputs": [],
   "source": [
    "# rename OBJECTID to avoid duplicate column names\n",
    "lariac_usc_df.rename(columns={'OBJECTID':'lariac_id'}, inplace=True)\n",
    "parcels_usc_df.rename(columns={'OBJECTID':'parcel_id'}, inplace=True)"
   ]
  },
  {
   "cell_type": "code",
   "execution_count": null,
   "id": "d1e88ce5-2a49-4141-9a3d-618abad51e54",
   "metadata": {},
   "outputs": [],
   "source": [
    "# choose columns to keep\n",
    "lariac_columns = ['lariac_id',\n",
    " 'CODE',\n",
    " 'BLD_ID',\n",
    " 'HEIGHT',\n",
    " 'ELEV',\n",
    " 'DATE_',\n",
    " 'STATUS',\n",
    " 'AREA',\n",
    " 'geometry']\n",
    "\n",
    "parcels_columns = ['parcel_id',\n",
    " 'AIN',\n",
    " 'APN',\n",
    " 'UseType',\n",
    " 'UseDescrip',\n",
    " 'DesignType',\n",
    " 'CENTER_LAT',\n",
    " 'CENTER_LON',\n",
    " 'CENTER_X',\n",
    " 'CENTER_Y',\n",
    " 'LAT_LON',\n",
    " 'ShapeSTAre',\n",
    " 'ShapeSTLen',\n",
    " 'geometry']"
   ]
  },
  {
   "cell_type": "code",
   "execution_count": null,
   "id": "d159e5b4-1608-4bf2-904c-f3697b9af5c0",
   "metadata": {},
   "outputs": [],
   "source": [
    "# keep only columns listed above\n",
    "lariac_usc_df = lariac_usc_df[lariac_columns]\n",
    "parcels_usc_df = parcels_usc_df[parcels_columns]"
   ]
  },
  {
   "cell_type": "code",
   "execution_count": null,
   "id": "b64dfaac-144a-495b-aecd-22cfb51c521a",
   "metadata": {},
   "outputs": [],
   "source": [
    "# calculate shape area from geometry in units of meters squared\n",
    "lariac_usc_df['shape_area_whole'] = lariac_usc_df.to_crs('epsg:3857').geometry.area"
   ]
  },
  {
   "cell_type": "code",
   "execution_count": null,
   "id": "9f30b69f-88be-4eb5-bbb4-c6ac4750a333",
   "metadata": {},
   "outputs": [],
   "source": [
    "# delete courtyards, keep only buildings\n",
    "lariac_usc_df.drop(lariac_usc_df[lariac_usc_df['CODE']=='Courtyard'].index, inplace=True)"
   ]
  },
  {
   "cell_type": "code",
   "execution_count": null,
   "id": "31615bce-37e7-45eb-b34b-304e08afaa9b",
   "metadata": {},
   "outputs": [],
   "source": [
    "#lariac_usc_df.shape"
   ]
  },
  {
   "cell_type": "code",
   "execution_count": null,
   "id": "4adc99b2-91e5-4490-86a2-375ef8b26608",
   "metadata": {},
   "outputs": [],
   "source": [
    "#len(lariac_usc_df['lariac_id'].unique())"
   ]
  },
  {
   "cell_type": "code",
   "execution_count": null,
   "id": "abe9950c-fe15-4bd8-a9ed-5347cebcba2c",
   "metadata": {},
   "outputs": [],
   "source": [
    "#lariac_usc_df.explore()"
   ]
  },
  {
   "cell_type": "markdown",
   "id": "e3ba1ba6-3874-4928-98a2-7191a3204b0d",
   "metadata": {
    "tags": []
   },
   "source": [
    "## Download LA Times Mapping neighborhoods data"
   ]
  },
  {
   "cell_type": "code",
   "execution_count": null,
   "id": "06b98fc7-ce88-4b70-b2b9-346e3d10aeb9",
   "metadata": {},
   "outputs": [],
   "source": [
    "# source: https://usc.data.socrata.com/dataset/Los-Angeles-Neighborhood-Map/r8qd-yxsr\n",
    "neighborhoods_dir = '/Users/josephko/USC/Research/Anthropogenic Heat/boundaries/la_bound_nbhd.geojson'\n",
    "neighborhoods = gpd.read_file(neighborhoods_dir)\n",
    "neighborhoods.plot()"
   ]
  },
  {
   "cell_type": "code",
   "execution_count": null,
   "id": "7c235fc0-4b92-447e-b75d-99f4ad3ec9e8",
   "metadata": {},
   "outputs": [],
   "source": [
    "neighborhoods.dtypes"
   ]
  },
  {
   "cell_type": "code",
   "execution_count": null,
   "id": "10505456-0125-41f9-bfa9-28e507659de6",
   "metadata": {},
   "outputs": [],
   "source": [
    "# county_boundary_url = 'https://opendata.arcgis.com/datasets/10f1e37c065347e693cf4e8ee753c09b_15.geojson'\n",
    "# county_boundary = gpd.read_file(county_boundary_url)\n",
    "# county_boundary.plot()"
   ]
  },
  {
   "cell_type": "code",
   "execution_count": null,
   "id": "2ff7459c-626a-4395-b41a-7e5412e077de",
   "metadata": {},
   "outputs": [],
   "source": [
    "# This file contains neighborhoods in Orange County as well. Used file saved on laptop downloaded from website (See above).\n",
    "# url = 'https://github.com/datadesk/mapping-la-data/raw/main/geojson/la-county-neighborhoods-v6.geojson'\n",
    "# #file = requests.get(url)\n",
    "# neighborhoods = gpd.read_file(url)\n",
    "# neighborhoods.head()"
   ]
  },
  {
   "cell_type": "code",
   "execution_count": null,
   "id": "554aaa88-0aae-472c-b62c-2f824f1aec18",
   "metadata": {},
   "outputs": [],
   "source": [
    "# plot boundaries of neighborhoods for visual check\n",
    "neighborhoods.plot()"
   ]
  },
  {
   "cell_type": "code",
   "execution_count": null,
   "id": "4e0af9a0-3a0e-4eeb-a081-9a92a7df5fa5",
   "metadata": {},
   "outputs": [],
   "source": [
    "neighborhoods.crs"
   ]
  },
  {
   "cell_type": "code",
   "execution_count": null,
   "id": "a5a2be9b-57c6-447c-91e8-f7d6c7dd0c95",
   "metadata": {},
   "outputs": [],
   "source": [
    "# Remove Catalina Island (including Avalon) from dataframe\n",
    "catalina_index = neighborhoods.query('name.str.contains(\"Catalina\") | name.str.contains(\"Avalon\")').index\n",
    "neighborhoods.drop(catalina_index, inplace=True)"
   ]
  },
  {
   "cell_type": "code",
   "execution_count": null,
   "id": "e9ef56cc-9d05-4366-a7a9-81f10673affd",
   "metadata": {},
   "outputs": [],
   "source": [
    "# Check that it was removed\n",
    "print(neighborhoods.query('name.str.contains(\"Catalina\") | name.str.contains(\"Avalon\")'))\n",
    "neighborhoods.plot()"
   ]
  },
  {
   "cell_type": "code",
   "execution_count": null,
   "id": "22be6f10-d42a-4d99-a414-ff3b8b3b7016",
   "metadata": {},
   "outputs": [],
   "source": [
    "#neighborhoods.explore()"
   ]
  },
  {
   "cell_type": "markdown",
   "id": "168069a0-3108-4f40-ac75-09a54b9f0b50",
   "metadata": {
    "jp-MarkdownHeadingCollapsed": true,
    "tags": []
   },
   "source": [
    "## Merge neighborhood boundaries and Energy Atlas data"
   ]
  },
  {
   "cell_type": "code",
   "execution_count": null,
   "id": "1a876f33-608d-409c-8465-ee92d1f8c3ff",
   "metadata": {},
   "outputs": [],
   "source": [
    "neighborhoods.head()"
   ]
  },
  {
   "cell_type": "code",
   "execution_count": null,
   "id": "0bd968d4-1fb6-4905-8d8b-0a3dcc0d2f89",
   "metadata": {},
   "outputs": [],
   "source": [
    "usage_bld_btu"
   ]
  },
  {
   "cell_type": "code",
   "execution_count": null,
   "id": "08e4be77-8d59-47b1-885d-e4773f856401",
   "metadata": {},
   "outputs": [],
   "source": [
    "neighborhoods_lower = neighborhoods.copy()\n",
    "neighborhoods_lower['name'] = neighborhoods_lower['name'].str.lower()\n",
    "neighborhoods_lower.head()"
   ]
  },
  {
   "cell_type": "code",
   "execution_count": null,
   "id": "15f62e27-c2fb-400d-9414-0319ba014354",
   "metadata": {},
   "outputs": [],
   "source": [
    "usage_bld = neighborhoods_lower.merge(usage_bld_btu, on='name')\n",
    "usage_bld.columns"
   ]
  },
  {
   "cell_type": "code",
   "execution_count": null,
   "id": "e363ff59-7b86-4bee-8d91-47c20da1d19e",
   "metadata": {},
   "outputs": [],
   "source": [
    "# clean up dataframe, drop unnecessary columns\n",
    "cols_drop = ['external_i','slug_1','display_na', 'set', 'name_1']\n",
    "usage_bld.drop(cols_drop, axis=1, inplace=True)\n",
    "usage_bld.columns"
   ]
  },
  {
   "cell_type": "code",
   "execution_count": null,
   "id": "aaed6ffa-778f-4631-b8ce-afaf52cbd212",
   "metadata": {},
   "outputs": [],
   "source": [
    "# add column for usage in units of Watts (1 btu = 0.293 watts)\n",
    "usage_bld['usage_joules'] = usage_bld['usage']*1055.06"
   ]
  },
  {
   "cell_type": "code",
   "execution_count": null,
   "id": "bcbb6020-799e-4455-a555-62f8fe167a97",
   "metadata": {},
   "outputs": [],
   "source": [
    "usage_bld.plot(column='usage_joules', legend=True, figsize=(20,10))"
   ]
  },
  {
   "cell_type": "markdown",
   "id": "40e5347e-2115-4757-935d-ad5da19aadd7",
   "metadata": {
    "jp-MarkdownHeadingCollapsed": true,
    "tags": []
   },
   "source": [
    "## Descriptive analysis of Energy Atlas data"
   ]
  },
  {
   "cell_type": "code",
   "execution_count": null,
   "id": "3e768f70-5827-47cf-89f2-a37f10bf0159",
   "metadata": {},
   "outputs": [],
   "source": [
    "# How many different usetype categories?\n",
    "usage_bld_btu['usetype'].unique()"
   ]
  },
  {
   "cell_type": "code",
   "execution_count": null,
   "id": "4f62e224-a604-4b01-aa84-2270ad83ab0e",
   "metadata": {},
   "outputs": [],
   "source": [
    "# subset only neighborhood-aggregated records\n",
    "usage_bld_btu_neighborhoods = usage_bld_btu.loc[usage_bld_btu['geo_id'].str.contains('neighborhoods')].copy()\n",
    "usage_bld_btu_neighborhoods"
   ]
  },
  {
   "cell_type": "code",
   "execution_count": null,
   "id": "87946623-e875-4646-ad1e-05dfebf5e531",
   "metadata": {},
   "outputs": [],
   "source": [
    "# How many unique neighborhoods?\n",
    "len(usage_bld_btu_neighborhoods['geo_id'].unique())"
   ]
  },
  {
   "cell_type": "code",
   "execution_count": null,
   "id": "b8a962a5-9ad1-4b31-9a13-61dc1e0769fe",
   "metadata": {},
   "outputs": [],
   "source": [
    "# further subset for only residential\n",
    "usage_bld_btu_neighborhoods_res = usage_bld_btu_neighborhoods.loc[usage_bld_btu_neighborhoods['usetype'] == 'res_total'].copy()\n",
    "usage_bld_btu_neighborhoods_res"
   ]
  },
  {
   "cell_type": "code",
   "execution_count": null,
   "id": "70dc6dbc-3577-4b05-a857-0d1bd0c0ee2f",
   "metadata": {},
   "outputs": [],
   "source": [
    "print(usage_bld_btu_neighborhoods_res._is_copy)"
   ]
  },
  {
   "cell_type": "code",
   "execution_count": null,
   "id": "dbb24e92-da80-4e54-a582-516651336cc5",
   "metadata": {},
   "outputs": [],
   "source": [
    "# testing SettingWithCopyWarning with test df\n",
    "df = pd.DataFrame({'A': ['1', '2', 'NaN'], 'B': ['1', 'NaN', '3'], 'C': ['1', '2', '3']})\n",
    "cols = df.columns.drop(['C'])\n",
    "df.loc[:, cols] = df[cols].apply(pd.to_numeric, errors = 'coerce')\n",
    "df"
   ]
  },
  {
   "cell_type": "code",
   "execution_count": null,
   "id": "c0cb5c5b-539b-4183-b5b1-76c4ba10bcc8",
   "metadata": {},
   "outputs": [],
   "source": [
    "# convert appropriate columns to numeric\n",
    "cols = usage_bld_btu_neighborhoods_res.columns.drop(['geo_id', 'usetype', 'name'])\n",
    "usage_bld_btu_neighborhoods_res.loc[:,cols] = usage_bld_btu_neighborhoods_res[cols].apply(pd.to_numeric, errors = 'coerce')\n",
    "usage_bld_btu_neighborhoods_res.dtypes"
   ]
  },
  {
   "cell_type": "code",
   "execution_count": null,
   "id": "7002c34b-e017-4cbc-872d-2928ed484a1c",
   "metadata": {},
   "outputs": [],
   "source": [
    "# distribution of pct_elec\n",
    "# usage_bld_btu_neighborhoods_res['pct_elec'] = pd.to_numeric(usage_bld_btu_neighborhoods_res['pct_elec'])\n",
    "usage_bld_btu_neighborhoods_res['pct_elec'].plot.hist(bins = 20) "
   ]
  },
  {
   "cell_type": "code",
   "execution_count": null,
   "id": "836afa0d-2879-4bd9-8f0e-e08c3061238e",
   "metadata": {},
   "outputs": [],
   "source": [
    "# distribution of pop\n",
    "usage_bld_btu_neighborhoods_res['pop'].plot.hist(bins = 20) "
   ]
  },
  {
   "cell_type": "code",
   "execution_count": null,
   "id": "4e3dd4c9-6395-4b64-b91a-c62fa9091355",
   "metadata": {},
   "outputs": [],
   "source": [
    "# distribution of usage\n",
    "usage_bld_btu_neighborhoods_res['usage'].plot.hist(bins = 20) "
   ]
  },
  {
   "cell_type": "code",
   "execution_count": null,
   "id": "4c3d2b4c-7394-4570-b121-cda04ac148d8",
   "metadata": {},
   "outputs": [],
   "source": [
    "# distribution of usage per capita\n",
    "usage_bld_btu_neighborhoods_res['usage_percap'].plot.hist(bins = 20) "
   ]
  },
  {
   "cell_type": "markdown",
   "id": "eb845eca-e1ec-4662-8c7a-a045ac8e3b7e",
   "metadata": {
    "jp-MarkdownHeadingCollapsed": true,
    "tags": []
   },
   "source": [
    "## Create 2d grid"
   ]
  },
  {
   "cell_type": "code",
   "execution_count": null,
   "id": "e0ee17c3-2ad7-4086-bdca-b7e74532e59e",
   "metadata": {},
   "outputs": [],
   "source": [
    "\"\"\"\n",
    "example references:\n",
    "https://james-brennan.github.io/posts/fast_gridding_geopandas/\n",
    "https://stackoverflow.com/questions/40342355/how-can-i-generate-a-regular-geographic-grid-using-python\n",
    "\"\"\"\n",
    "\n",
    "# create grid that covers the extent of LA County, set at 'X' m resolution\n",
    "xmin, ymin, xmax, ymax= neighborhoods.total_bounds\n",
    "\n",
    "# Set up transformers, EPSG:3857 is metric, same as EPSG:900913\n",
    "to_proxy_transformer = pyproj.Transformer.from_crs('epsg:4326', 'epsg:3857', always_xy=True)\n",
    "to_original_transformer = pyproj.Transformer.from_crs('epsg:4326', 'epsg:3857', always_xy=True)\n",
    "\n",
    "# Create corners of rectangle to be transformed to a grid\n",
    "sw = shapely.geometry.Point((xmin, ymin))\n",
    "ne = shapely.geometry.Point((xmax, ymax))\n",
    "\n",
    "stepsize = 1000 # grid resolution in meters\n",
    "\n",
    "# Project corners to target projection\n",
    "transformed_sw = to_proxy_transformer.transform(sw.x, sw.y) # Transform NW point to 3857\n",
    "transformed_ne = to_proxy_transformer.transform(ne.x, ne.y) # .. same for SE\n",
    "\n"
   ]
  },
  {
   "cell_type": "code",
   "execution_count": null,
   "id": "c6d97783-7041-4f73-b7e0-7e4bcab3d51d",
   "metadata": {},
   "outputs": [],
   "source": [
    "print(xmin, ymin, xmax, ymax)"
   ]
  },
  {
   "cell_type": "code",
   "execution_count": null,
   "id": "2fa153bd-79fc-4183-8392-9944d6b482cc",
   "metadata": {},
   "outputs": [],
   "source": [
    "# Iterate over 2D area\n",
    "grid_cells = []\n",
    "x = transformed_sw[0]\n",
    "while x < transformed_ne[0]:\n",
    "    y = transformed_sw[1]\n",
    "    while y < transformed_ne[1]:\n",
    "        x1 = x + stepsize\n",
    "        y1 = y + stepsize\n",
    "        cell = shapely.geometry.box(x, y, x1, y1)\n",
    "        grid_cells.append(cell)\n",
    "        y += stepsize\n",
    "    x += stepsize\n",
    "\n",
    "\n",
    "ah_grid = gpd.GeoDataFrame(grid_cells, columns=['geometry'], crs='epsg:3857')\n",
    "ah_grid = ah_grid.to_crs('epsg:4326')\n",
    "\n",
    "ax = neighborhoods.plot(figsize=(24, 16))\n",
    "plt.autoscale(False)\n",
    "#ah_grid.plot(ax=ax, facecolor=\"none\", edgecolor='grey')"
   ]
  },
  {
   "cell_type": "markdown",
   "id": "da4ee548-b50d-42e4-96d3-d748340e935d",
   "metadata": {
    "tags": []
   },
   "source": [
    "## Anthropogenic heat flux from residential buildings"
   ]
  },
  {
   "cell_type": "markdown",
   "id": "0b82a479-46d4-4168-b622-f5d6b8e27033",
   "metadata": {
    "jp-MarkdownHeadingCollapsed": true,
    "tags": []
   },
   "source": [
    "### Test case 1: University Park neighborhood"
   ]
  },
  {
   "cell_type": "code",
   "execution_count": null,
   "id": "acbbc636-43dc-4f4d-a742-14f6b80e4e26",
   "metadata": {},
   "outputs": [],
   "source": [
    "# get usage for university park neighborhood only\n",
    "usage_usc = usage_bld[(usage_bld['name'] == 'university park') & (usage_bld['usetype'] == 'res_total')]\n",
    "#usage_usc = usage_bld[usage_bld['usetype'] == 'res_total']\n",
    "ax = usage_usc.plot(figsize=(10,10), column = 'usage_joules', alpha=0.1, edgecolor='k')\n",
    "ax.get_xaxis().get_major_formatter().set_useOffset(False)\n",
    "#ax.annotate(usage_usc.iloc[0].usage_joules, xy=[pd.to_numeric(top_row['latitude']), pd.to_numeric(top_row['longitude'])])\n",
    "ctx.add_basemap(ax, source=ctx.providers.Stamen.Toner, crs=usage_bld.crs) # notice the crs must match between basemap and data"
   ]
  },
  {
   "cell_type": "code",
   "execution_count": null,
   "id": "25980c47-f2b6-4a64-bd4c-ea38985f3c5e",
   "metadata": {},
   "outputs": [],
   "source": [
    "# create 2d grid\n",
    "\"\"\"\n",
    "example references:\n",
    "https://james-brennan.github.io/posts/fast_gridding_geopandas/\n",
    "https://stackoverflow.com/questions/40342355/how-can-i-generate-a-regular-geographic-grid-using-python\n",
    "\"\"\"\n",
    "\n",
    "# create grid that covers the extent of LA County, set at 'X' m resolution\n",
    "xmin, ymin, xmax, ymax = usage_usc.total_bounds\n",
    "\n",
    "# create a little buffer for extent\n",
    "xmin = xmin - 0.005\n",
    "ymin = ymin - 0.005\n",
    "xmax = xmax + 0.005\n",
    "ymax = ymax + 0.005\n",
    "\n",
    "# Set up transformers, EPSG:3857 is metric, same as EPSG:900913\n",
    "to_proxy_transformer = pyproj.Transformer.from_crs('epsg:4326', 'epsg:3857', always_xy=True)\n",
    "to_original_transformer = pyproj.Transformer.from_crs('epsg:4326', 'epsg:3857', always_xy=True)\n",
    "\n",
    "# Create corners of rectangle to be transformed to a grid\n",
    "sw = shapely.geometry.Point((xmin, ymin))\n",
    "ne = shapely.geometry.Point((xmax, ymax))\n",
    "\n",
    "stepsize = 100 # grid resolution in meters\n",
    "\n",
    "# Project corners to target projection\n",
    "transformed_sw = to_proxy_transformer.transform(sw.x, sw.y) # Transform NW point to 3857\n",
    "transformed_ne = to_proxy_transformer.transform(ne.x, ne.y) # .. same for SE\n",
    "\n",
    "# Iterate over 2D area\n",
    "grid_cells = []\n",
    "x = transformed_sw[0]\n",
    "while x < transformed_ne[0]:\n",
    "    y = transformed_sw[1]\n",
    "    while y < transformed_ne[1]:\n",
    "        x1 = x + stepsize\n",
    "        y1 = y + stepsize\n",
    "        cell = shapely.geometry.box(x, y, x1, y1)\n",
    "        grid_cells.append(cell)\n",
    "        y += stepsize\n",
    "    x += stepsize\n",
    "\n",
    "\n",
    "ah_grid = gpd.GeoDataFrame(grid_cells, columns=['geometry'], crs='epsg:3857')\n",
    "ah_grid = ah_grid.to_crs('epsg:4326')\n",
    "\n",
    "ax = usage_usc.plot(figsize=(10,10), alpha=0.1, edgecolor='k')\n",
    "ax.get_xaxis().get_major_formatter().set_useOffset(False)\n",
    "ctx.add_basemap(ax, source=ctx.providers.Stamen.Toner, crs=usage_bld.crs) # notice the crs must match between basemap and data\n",
    "ah_grid.plot(ax=ax, facecolor=\"none\", edgecolor='grey')"
   ]
  },
  {
   "cell_type": "code",
   "execution_count": null,
   "id": "4ecbedcc-5bd9-41a3-991f-6c9d6fac92f4",
   "metadata": {},
   "outputs": [],
   "source": [
    "# spatial join LARIAC and parcels dataframe\n",
    "parcels_usc_res_df = parcels_usc_df[parcels_usc_df['UseType'] == 'Residential'].copy() # filter for only residential\n",
    "parcels_usc_res_df.drop_duplicates('geometry', inplace=True) # !!!REMOVE DUPLICATE PARCELS!!!\n",
    "lariac_usc_merged_inner = gpd.sjoin(lariac_usc_df, parcels_usc_res_df, how='inner')\n",
    "\n",
    "# plot to visualize\n",
    "ax = lariac_usc_merged_inner.plot(figsize=(10,10), alpha=0.5, facecolor = 'none', edgecolor='blue')\n",
    "ax.get_xaxis().get_major_formatter().set_useOffset(False)\n",
    "ctx.add_basemap(ax, source=ctx.providers.Stamen.Toner, crs=lariac_usc_merged_inner.crs) # notice the crs must match between basemap and data\n",
    "ah_grid.plot(ax=ax, facecolor=\"none\", edgecolor='gray')\n",
    "usage_usc.plot(ax=ax, alpha=0.1, edgecolor='k')"
   ]
  },
  {
   "cell_type": "code",
   "execution_count": null,
   "id": "bc23517a-c460-48bb-bae2-fe00db9a5951",
   "metadata": {},
   "outputs": [],
   "source": [
    "# spatial join the 2d grid and the neighborhood boundary\n",
    "grid_usc = gpd.sjoin(ah_grid, usage_usc)\n",
    "# plot to visualize\n",
    "ax = lariac_usc_merged_inner.plot(figsize=(10,10), alpha=0.5, facecolor = 'none', edgecolor='blue')\n",
    "ax.get_xaxis().get_major_formatter().set_useOffset(False)\n",
    "ctx.add_basemap(ax, source=ctx.providers.Stamen.Toner, crs=lariac_usc_merged_inner.crs) # notice the crs must match between basemap and data\n",
    "grid_usc.plot(ax=ax, facecolor=\"none\", edgecolor='gray')\n",
    "usage_usc.plot(ax=ax, alpha=0.1, edgecolor='k')"
   ]
  },
  {
   "cell_type": "code",
   "execution_count": null,
   "id": "9e3e37b9-93e4-42ae-a2fb-c14bb25c8aba",
   "metadata": {},
   "outputs": [],
   "source": [
    "# drop columns with 'index_*'\n",
    "grid_usc.drop(list(grid_usc.filter(regex = 'index_')), axis=1, inplace=True)\n",
    "lariac_usc_merged_inner.drop(list(lariac_usc_merged_inner.filter(regex = 'index_')), axis=1, inplace=True)\n",
    "# add extra geometry column to save grid geometry for spatial joins\n",
    "grid_usc['grid_geometry'] = grid_usc.geometry\n",
    "# make the index a column\n",
    "grid_usc.reset_index(inplace=True)\n",
    "# rename index to grid_cell_index\n",
    "grid_usc.rename(columns={'index':'grid_cell_index'}, inplace=True)"
   ]
  },
  {
   "cell_type": "code",
   "execution_count": null,
   "id": "684cbbb1-8616-448a-a2e0-5a0dbfa5ac6b",
   "metadata": {},
   "outputs": [],
   "source": [
    "grid_usc.head()"
   ]
  },
  {
   "cell_type": "code",
   "execution_count": null,
   "id": "24f3d0b1-8eb3-4617-847c-e738aa38974f",
   "metadata": {},
   "outputs": [],
   "source": [
    "# spatial join buildings and grid (intersects)\n",
    "buildings_usc_intersects = gpd.sjoin(lariac_usc_merged_inner, grid_usc, predicate='intersects')\n",
    "# plot to visualize\n",
    "ax = buildings_usc_intersects.plot(figsize=(10,10), alpha=0.5, facecolor = 'none', edgecolor='blue')\n",
    "ax.get_xaxis().get_major_formatter().set_useOffset(False)\n",
    "ctx.add_basemap(ax, source=ctx.providers.Stamen.Toner, crs=lariac_usc_merged_inner.crs) # notice the crs must match between basemap and data\n",
    "grid_usc.plot(ax=ax, facecolor=\"none\", edgecolor='gray')\n",
    "usage_usc.plot(ax=ax, alpha=0.1, edgecolor='k')              "
   ]
  },
  {
   "cell_type": "code",
   "execution_count": null,
   "id": "95a277a1-fee0-4ea8-92a5-c751e3194d62",
   "metadata": {},
   "outputs": [],
   "source": [
    "# # spatial join buildings and grid (within)\n",
    "# buildings_usc_within = gpd.sjoin(lariac_usc_merged_inner, grid_usc, predicate='within')\n",
    "# # plot to visualize\n",
    "# ax = grid_usc.plot(figsize=(10,10), facecolor=\"none\", edgecolor='blue')\n",
    "# ax.get_xaxis().get_major_formatter().set_useOffset(False)\n",
    "# ctx.add_basemap(ax, source=ctx.providers.Stamen.Toner, crs=lariac_usc_merged_inner.crs) # notice the crs must match between basemap and data\n",
    "# buildings_usc_within.plot(ax=ax, alpha=0.5, facecolor = 'yellow', edgecolor='red')\n",
    "# usage_usc.plot(ax=ax, alpha=0.1, edgecolor='k')       "
   ]
  },
  {
   "cell_type": "code",
   "execution_count": null,
   "id": "a78b70b2-c6d1-45f5-9a8a-b6cc1daf0007",
   "metadata": {},
   "outputs": [],
   "source": [
    "# # spatial join buildings and grid (Switch left/right order this time)\n",
    "# grid_usc_intersects = gpd.sjoin(grid_usc, lariac_usc_merged_inner, predicate='intersects')\n",
    "# # plot to visualize\n",
    "# ax = grid_usc_intersects.plot(figsize=(10,10), alpha=0.5, facecolor = 'yellow', edgecolor='red')\n",
    "# ax.get_xaxis().get_major_formatter().set_useOffset(False)\n",
    "# ctx.add_basemap(ax, source=ctx.providers.Stamen.Toner, crs=lariac_usc_merged_inner.crs) # notice the crs must match between basemap and data\n",
    "# grid_usc.plot(ax=ax, facecolor=\"none\", edgecolor='blue')\n",
    "# usage_usc.plot(ax=ax, alpha=0.1, edgecolor='k')  "
   ]
  },
  {
   "cell_type": "code",
   "execution_count": null,
   "id": "fdf9c1a3-7191-46a4-a649-cb242b8e0429",
   "metadata": {},
   "outputs": [],
   "source": [
    "buildings_usc_intersects.grid_geometry.plot(facecolor=\"none\", edgecolor='blue')"
   ]
  },
  {
   "cell_type": "code",
   "execution_count": null,
   "id": "015ea70c-15ed-47a0-9a81-5560a3e7c54a",
   "metadata": {},
   "outputs": [],
   "source": [
    "len(buildings_usc_intersects.grid_geometry.unique())"
   ]
  },
  {
   "cell_type": "code",
   "execution_count": null,
   "id": "08223668-bfa0-4f58-ab63-89beefff1619",
   "metadata": {},
   "outputs": [],
   "source": [
    "#testing overlay \n",
    "buildings_usc_overlay_intersection = lariac_usc_merged_inner.overlay(grid_usc, how='intersection')\n",
    "# plot to visualize\n",
    "#buildings_usc_overlay_intersection.explore()"
   ]
  },
  {
   "cell_type": "code",
   "execution_count": null,
   "id": "d2f11be5-4190-4159-96aa-839436833fda",
   "metadata": {},
   "outputs": [],
   "source": [
    "# total building area in this neighborhood?\n",
    "total_building_area_usc = buildings_usc_overlay_intersection['AREA'].sum()\n",
    "total_building_area_usc"
   ]
  },
  {
   "cell_type": "code",
   "execution_count": null,
   "id": "9fe6ef6d-d4d7-4ff7-bbda-e1f1d196924a",
   "metadata": {},
   "outputs": [],
   "source": [
    "# calculate building volume and add as a new column\n",
    "buildings_usc_overlay_intersection['VOLUME'] = buildings_usc_overlay_intersection['AREA']*buildings_usc_overlay_intersection['HEIGHT'] # units: cubic feet"
   ]
  },
  {
   "cell_type": "code",
   "execution_count": null,
   "id": "0b0e0587-e74d-4240-acc3-dbd0c70b9958",
   "metadata": {},
   "outputs": [],
   "source": [
    "#buildings_usc_overlay_intersection.shape"
   ]
  },
  {
   "cell_type": "code",
   "execution_count": null,
   "id": "97d38a84-bb86-46c1-ac0b-ab81e0623cb5",
   "metadata": {},
   "outputs": [],
   "source": [
    "#len(buildings_usc_overlay_intersection['lariac_id'].unique())"
   ]
  },
  {
   "cell_type": "code",
   "execution_count": null,
   "id": "dd1fe236-43d6-41e5-a913-7d6ee303fb3e",
   "metadata": {},
   "outputs": [],
   "source": [
    "# add column that describes the fraction of the whole building that segment represents\n",
    "buildings_usc_overlay_intersection['building_fraction'] = buildings_usc_overlay_intersection.to_crs('epsg:3857').geometry.area/buildings_usc_overlay_intersection['shape_area_whole']\n",
    "buildings_usc_overlay_intersection['VOLUME'] = buildings_usc_overlay_intersection['building_fraction']*buildings_usc_overlay_intersection['VOLUME']\n",
    "#buildings_usc_overlay_intersection"
   ]
  },
  {
   "cell_type": "code",
   "execution_count": null,
   "id": "b9257cf4-13dc-478b-8c08-ed31645c3361",
   "metadata": {},
   "outputs": [],
   "source": [
    "# total building area in this neighborhood?\n",
    "total_building_vol_usc = buildings_usc_overlay_intersection['VOLUME'].sum()\n",
    "total_building_vol_usc"
   ]
  },
  {
   "cell_type": "code",
   "execution_count": null,
   "id": "a0e30619-300d-479a-af19-99ffe0ea4085",
   "metadata": {},
   "outputs": [],
   "source": [
    "# df of total building volume in each grid cell\n",
    "building_volume_df = buildings_usc_overlay_intersection[['grid_cell_index', 'VOLUME']]\n",
    "volume_by_cell = building_volume_df.groupby('grid_cell_index').sum()\n",
    "# make the index a column\n",
    "volume_by_cell.reset_index(inplace=True)"
   ]
  },
  {
   "cell_type": "code",
   "execution_count": null,
   "id": "e00a7b5f-6412-4f92-95f4-bc3fac74652d",
   "metadata": {},
   "outputs": [],
   "source": [
    "# add cells with no buildings \n",
    "volume_by_cell_all = volume_by_cell.merge(grid_usc, how='outer') # outer join\n",
    "volume_by_cell_all = volume_by_cell_all[['grid_cell_index','VOLUME','pct_elec','usage_joules','grid_geometry']] # only keep these columns\n",
    "volume_by_cell_all.head()"
   ]
  },
  {
   "cell_type": "code",
   "execution_count": null,
   "id": "5b21927f-4f6a-4896-82e0-7dbeb3dfabcd",
   "metadata": {},
   "outputs": [],
   "source": [
    "# calculate volume-based weights and finally, the AHF\n",
    "cell_area = stepsize**2 # area of single cell; stepsize is resolution in meters (defined above)\n",
    "n_cells = len(grid_usc) # number of total cells in neighborhood\n",
    "seconds_in_year = 3.154e+7\n",
    "ahf = gpd.GeoDataFrame(volume_by_cell_all, geometry='grid_geometry')\n",
    "ahf['VOLUME'] = ahf['VOLUME'].fillna(0)\n",
    "ahf['vol_frac'] = ahf['VOLUME']/total_building_vol_usc\n",
    "ahf['electricity_use'] = ahf['pct_elec']*ahf['usage_joules']*ahf['vol_frac']\n",
    "ahf['ahf'] = ahf['electricity_use']/cell_area/seconds_in_year\n",
    "ahf"
   ]
  },
  {
   "cell_type": "code",
   "execution_count": null,
   "id": "cd4eaf35-580b-4285-ad7f-85e501ac2a91",
   "metadata": {},
   "outputs": [],
   "source": [
    "# plot to visualize\n",
    "ax = ahf.plot(figsize=(10,10), column='ahf', alpha=0.7, legend=True, cmap='YlOrRd', vmin=0, vmax=6, legend_kwds={'label':'Anthropogenic heat flux [W/$m^2$]'})\n",
    "ax.get_xaxis().get_major_formatter().set_useOffset(False)\n",
    "ctx.add_basemap(ax, source=ctx.providers.Stamen.Toner, crs=lariac_usc_merged_inner.crs) # notice the crs must match between basemap and data\n",
    "grid_usc.plot(ax=ax, facecolor=\"none\", edgecolor='gray')\n",
    "buildings_usc_intersects.plot(ax=ax, facecolor=\"none\", edgecolor='blue', alpha=0.2)\n",
    "ax.xaxis.set_major_formatter(FormatStrFormatter('%.3f'))\n",
    "ax.yaxis.set_major_formatter(FormatStrFormatter('%.3f'))"
   ]
  },
  {
   "cell_type": "code",
   "execution_count": null,
   "id": "3b991a87-ad42-4afe-ada2-a4dad5364c8a",
   "metadata": {},
   "outputs": [],
   "source": [
    "# plot AHF with naive averaging (i.e., no building volume weights)\n",
    "ahf['electricity_use_naive'] = (ahf['pct_elec']*ahf['usage_joules'])/n_cells\n",
    "ahf['ahf_naive'] = ahf['electricity_use_naive']/cell_area/seconds_in_year"
   ]
  },
  {
   "cell_type": "code",
   "execution_count": null,
   "id": "e7979912-18f8-429e-b70b-fce93b86d05d",
   "metadata": {},
   "outputs": [],
   "source": [
    "# plot to visualize\n",
    "ax = ahf.plot(figsize=(10,10), column='ahf_naive', alpha=0.7, legend=True, cmap='YlOrRd', vmin=0, vmax=6,legend_kwds={'label':'Anthropogenic heat flux [W/$m^2$]'})\n",
    "ax.get_xaxis().get_major_formatter().set_useOffset(False)\n",
    "ctx.add_basemap(ax, source=ctx.providers.Stamen.Toner, crs=lariac_usc_merged_inner.crs) # notice the crs must match between basemap and data\n",
    "grid_usc.plot(ax=ax, facecolor=\"none\", edgecolor='gray')\n",
    "buildings_usc_intersects.plot(ax=ax, facecolor=\"none\", edgecolor='blue', alpha=0.2)\n",
    "ax.xaxis.set_major_formatter(FormatStrFormatter('%.3f'))\n",
    "ax.yaxis.set_major_formatter(FormatStrFormatter('%.3f'))"
   ]
  },
  {
   "cell_type": "markdown",
   "id": "12659336-5545-45c1-8779-e8cc7fb742f7",
   "metadata": {},
   "source": [
    "### Test case 2: University Park and Adams-Normandie"
   ]
  },
  {
   "cell_type": "code",
   "execution_count": null,
   "id": "07c62794-3580-4fc3-b766-a7381b128eac",
   "metadata": {},
   "outputs": [],
   "source": [
    "# create mask for two neighborhoods\n",
    "neighborhoods_2 = neighborhoods[(neighborhoods['name']=='University Park') | (neighborhoods['name']=='Adams-Normandie')]\n",
    "neighborhoods_2"
   ]
  },
  {
   "cell_type": "code",
   "execution_count": null,
   "id": "539dd2f1-1cdc-4264-8540-36e54d7dd778",
   "metadata": {},
   "outputs": [],
   "source": [
    "%%time\n",
    "# load subset of parcels using mask                              \n",
    "parcels_2_dir = '/Users/josephko/USC/Research/Anthropogenic Heat/boundaries/LA_County_Parcels-shp.zip'\n",
    "parcels_2_df = gpd.read_file(parcels_2_dir, na_values = ['masked'], mask = neighborhoods_2)\n",
    "parcels_2_df.plot()"
   ]
  },
  {
   "cell_type": "code",
   "execution_count": null,
   "id": "126342f8-bc2a-48ae-bc60-21cce27ccd7c",
   "metadata": {},
   "outputs": [],
   "source": [
    "%%time\n",
    "# loading all lariac data as geojson                       \n",
    "lariac_2_dir = '/Users/josephko/USC/Research/Anthropogenic Heat/lariac/Countywide_Building_Outlines_2017.geojson'\n",
    "lariac_2_df = gpd.read_file(lariac_2_dir)#, mask = neighborhoods_2)"
   ]
  },
  {
   "cell_type": "code",
   "execution_count": null,
   "id": "5d1206a7-d60e-4a87-9b6c-0eb5a4ed975a",
   "metadata": {},
   "outputs": [],
   "source": [
    "%%time\n",
    "# loading all lariac data as gdb                       \n",
    "lariac_2_dir = '/Users/josephko/USC/Research/Anthropogenic Heat/lariac/Countywide_Building_Outlines_2017.gdb'\n",
    "lariac_2_df = gpd.read_file(lariac_2_dir)#, mask = neighborhoods_2)"
   ]
  },
  {
   "cell_type": "code",
   "execution_count": null,
   "id": "9650045b-cfe7-4233-9087-2934884067bc",
   "metadata": {},
   "outputs": [],
   "source": [
    "# convert to feather \n",
    "geofeather.to_geofeather(lariac_2_df, '/Users/josephko/USC/Research/Anthropogenic Heat/lariac/Countywide_Building_Outlines_2017.feather')"
   ]
  },
  {
   "cell_type": "code",
   "execution_count": null,
   "id": "0a29bf2f-fcaa-4e3a-a566-3335ecef7384",
   "metadata": {},
   "outputs": [],
   "source": [
    "%%time\n",
    "# read feather file\n",
    "lariac_all_df = geofeather.from_geofeather('/Users/josephko/USC/Research/Anthropogenic Heat/lariac/Countywide_Building_Outlines_2017.feather')"
   ]
  },
  {
   "cell_type": "code",
   "execution_count": null,
   "id": "fad129fb-81df-42cc-b61d-4cb93a05129d",
   "metadata": {},
   "outputs": [],
   "source": [
    "%%time\n",
    "# load all parcels                            \n",
    "parcels_2_dir = '/Users/josephko/USC/Research/Anthropogenic Heat/boundaries/LA_County_Parcels.geojson'\n",
    "parcels_2_df = gpd.read_file(parcels_2_dir)"
   ]
  },
  {
   "cell_type": "code",
   "execution_count": null,
   "id": "91268bc0-18a9-409b-a324-348c8b460edc",
   "metadata": {},
   "outputs": [],
   "source": [
    "%%time\n",
    "# convert parcels to feather \n",
    "geofeather.to_geofeather(lariac_2_df, '/Users/josephko/USC/Research/Anthropogenic Heat/lariac/Countywide_Building_Outlines_2017.feather')"
   ]
  },
  {
   "cell_type": "code",
   "execution_count": null,
   "id": "1a6c9c99-171a-4ab8-9738-fa9195fa1e5a",
   "metadata": {},
   "outputs": [],
   "source": [
    "%%time\n",
    "# read parcels feather file\n",
    "lariac_all_df = geofeather.from_geofeather('/Users/josephko/USC/Research/Anthropogenic Heat/lariac/Countywide_Building_Outlines_2017.feather')"
   ]
  },
  {
   "cell_type": "code",
   "execution_count": null,
   "id": "32184a8e-ac87-4225-b3c1-4ee16ae587f9",
   "metadata": {},
   "outputs": [],
   "source": []
  },
  {
   "cell_type": "code",
   "execution_count": null,
   "id": "ca2ae848-e6ed-4131-8122-34357bcb2476",
   "metadata": {},
   "outputs": [],
   "source": [
    "# rename OBJECTID to avoid duplicate column names\n",
    "lariac_2_df.rename(columns={'OBJECTID':'lariac_id'}, inplace=True)\n",
    "parcels_2_df.rename(columns={'OBJECTID':'parcel_id'}, inplace=True)\n",
    "\n",
    "# keep only columns listed above\n",
    "lariac_2_df = lariac_2_df[lariac_columns].copy()\n",
    "parcels_2_df = parcels_2_df[parcels_columns].copy()\n",
    "\n",
    "# calculate shape area from geometry in units of meters squared\n",
    "lariac_2_df['shape_area_whole'] = lariac_2_df.to_crs('epsg:3857').geometry.area\n",
    "\n",
    "# delete courtyards, keep only buildings\n",
    "lariac_2_df.drop(lariac_2_df[lariac_2_df['CODE']=='Courtyard'].index, inplace=True)"
   ]
  },
  {
   "cell_type": "code",
   "execution_count": null,
   "id": "a25a3e58-788a-4d45-a57f-9de026b36baa",
   "metadata": {},
   "outputs": [],
   "source": []
  },
  {
   "cell_type": "code",
   "execution_count": null,
   "id": "06c31e6f-2308-4ffe-b0cc-7730c36029a9",
   "metadata": {},
   "outputs": [],
   "source": [
    "# get usage for university park neighborhood only\n",
    "usage_usc = usage_bld[((usage_bld['name'] == 'adams-normandie') |\n",
    "                      (usage_bld['name'] == 'university park')) &\n",
    "                      (usage_bld['usetype'] == 'res_total')]\n",
    "#usage_usc = usage_bld[usage_bld['usetype'] == 'res_total']\n",
    "ax = usage_usc.plot(figsize=(10,10), column = 'usage_joules', alpha=0.1, edgecolor='k')\n",
    "ax.get_xaxis().get_major_formatter().set_useOffset(False)\n",
    "#ax.annotate(usage_usc.iloc[0].usage_joules, xy=[pd.to_numeric(top_row['latitude']), pd.to_numeric(top_row['longitude'])])\n",
    "ctx.add_basemap(ax, source=ctx.providers.Stamen.Toner, crs=usage_bld.crs) # notice the crs must match between basemap and data"
   ]
  },
  {
   "cell_type": "markdown",
   "id": "79faba78-e818-4846-859e-8e0e309189b8",
   "metadata": {
    "jp-MarkdownHeadingCollapsed": true,
    "tags": []
   },
   "source": [
    "## Anthropogenic heat flux from commercial buildings"
   ]
  },
  {
   "cell_type": "markdown",
   "id": "fd8657d2-ac75-41af-b380-b288dec800f6",
   "metadata": {
    "tags": []
   },
   "source": [
    "### Proof of concept: University Park neighborhood"
   ]
  },
  {
   "cell_type": "code",
   "execution_count": null,
   "id": "9d28d321-4015-492e-bf5e-5f290770660f",
   "metadata": {},
   "outputs": [],
   "source": [
    "usage_bld['usetype'].unique()"
   ]
  },
  {
   "cell_type": "code",
   "execution_count": null,
   "id": "67b3c306-f0d4-4bca-ae4a-58a6fb9f65cc",
   "metadata": {},
   "outputs": [],
   "source": [
    "# get usage for university park neighborhood only\n",
    "usage_usc_com = usage_bld[(usage_bld['name'] == 'university park') & (usage_bld['usetype'] == 'commercial')]"
   ]
  },
  {
   "cell_type": "code",
   "execution_count": null,
   "id": "5c1d3d59-f5fe-4d97-9aff-54ff551f5a2f",
   "metadata": {},
   "outputs": [],
   "source": [
    "usage_usc_com.head()"
   ]
  },
  {
   "cell_type": "code",
   "execution_count": null,
   "id": "253dac73-1110-4b53-8959-2237ef9dec55",
   "metadata": {},
   "outputs": [],
   "source": [
    "# spatial join LARIAC and parcels dataframe\n",
    "parcels_usc_com_df = parcels_usc_df[parcels_usc_df['UseType'] == 'Commercial'].copy() # filter for only commercial\n",
    "parcels_usc_com_df.drop_duplicates('geometry', inplace=True) # !!!REMOVE DUPLICATE PARCELS!!!\n",
    "#lariac_usc_merged_inner_com = gpd.sjoin(lariac_usc_df, parcels_usc_com_df, how='inner')\n",
    "lariac_usc_merged_inner_com = lariac_usc_df.overlay(parcels_usc_com_df, how='intersection')\n",
    "\n",
    "# spatial join the 2d grid and the neighborhood boundary\n",
    "grid_usc_com = gpd.sjoin(ah_grid, usage_usc_com)\n",
    "\n",
    "# plot to visualize\n",
    "ax = lariac_usc_merged_inner_com.plot(figsize=(10,10), alpha=0.5, facecolor = 'none', edgecolor='blue')\n",
    "ax.get_xaxis().get_major_formatter().set_useOffset(False)\n",
    "ctx.add_basemap(ax, source=ctx.providers.Stamen.Toner, crs=lariac_usc_merged_inner.crs) # notice the crs must match between basemap and data\n",
    "ah_grid.plot(ax=ax, facecolor=\"none\", edgecolor='gray')\n",
    "usage_usc_com.plot(ax=ax, alpha=0.1, edgecolor='k')"
   ]
  },
  {
   "cell_type": "code",
   "execution_count": null,
   "id": "3c1c57d1-a087-4a2f-8077-a3475efd4dd4",
   "metadata": {},
   "outputs": [],
   "source": [
    "# drop columns with 'index_*'\n",
    "lariac_usc_merged_inner_com.drop(list(lariac_usc_merged_inner_com.filter(regex = 'index_')), axis=1, inplace=True)\n",
    "grid_usc_com.drop(list(grid_usc.filter(regex = 'index_')), axis=1, inplace=True)\n",
    "# add extra geometry column to save grid geometry for spatial joins\n",
    "grid_usc_com['grid_geometry'] = grid_usc_com.geometry\n",
    "# make the index a column\n",
    "grid_usc_com.reset_index(inplace=True)\n",
    "# rename index to grid_cell_index\n",
    "grid_usc_com.rename(columns={'index':'grid_cell_index'}, inplace=True)"
   ]
  },
  {
   "cell_type": "code",
   "execution_count": null,
   "id": "5a496d0b-6ac9-4a1a-8f67-759896b7cd97",
   "metadata": {},
   "outputs": [],
   "source": [
    "#testing overlay \n",
    "buildings_usc_overlay_intersection_com = lariac_usc_merged_inner_com.overlay(grid_usc_com, how='intersection')\n",
    "# plot to visualize\n",
    "#buildings_usc_overlay_intersection_com.explore()"
   ]
  },
  {
   "cell_type": "code",
   "execution_count": null,
   "id": "f72c685a-fb55-4ad1-a447-4736057df57a",
   "metadata": {},
   "outputs": [],
   "source": [
    "# total building area in this neighborhood?\n",
    "total_building_area_usc_com = buildings_usc_overlay_intersection_com['AREA'].sum()\n",
    "\n",
    "# calculate building volume and add as a new column\n",
    "buildings_usc_overlay_intersection_com['VOLUME'] = buildings_usc_overlay_intersection_com['AREA']*buildings_usc_overlay_intersection_com['HEIGHT'] # units: cubic feet\n",
    "\n",
    "# add column that describes the fraction of the whole building that segment represents\n",
    "buildings_usc_overlay_intersection_com['building_fraction'] = buildings_usc_overlay_intersection_com.to_crs('epsg:3857').geometry.area/buildings_usc_overlay_intersection_com['shape_area_whole']\n",
    "buildings_usc_overlay_intersection_com['VOLUME'] = buildings_usc_overlay_intersection_com['building_fraction']*buildings_usc_overlay_intersection_com['VOLUME']\n",
    "\n",
    "# total building area in this neighborhood?\n",
    "total_building_vol_usc_com = buildings_usc_overlay_intersection_com['VOLUME'].sum()\n",
    "\n",
    "# df of total building volume in each grid cell\n",
    "building_volume_df_com = buildings_usc_overlay_intersection_com[['grid_cell_index', 'VOLUME']]\n",
    "volume_by_cell_com = building_volume_df_com.groupby('grid_cell_index').sum()\n",
    "# make the index a column\n",
    "volume_by_cell_com.reset_index(inplace=True)\n",
    "\n",
    "# add cells with no buildings \n",
    "volume_by_cell_all_com = volume_by_cell_com.merge(grid_usc_com, how='outer') # outer join\n",
    "volume_by_cell_all_com = volume_by_cell_all_com[['grid_cell_index','VOLUME','pct_elec','usage_joules','grid_geometry']] # only keep these columns"
   ]
  },
  {
   "cell_type": "code",
   "execution_count": null,
   "id": "954b5c04-70c1-4a00-b53c-8f85cea56fb3",
   "metadata": {},
   "outputs": [],
   "source": [
    "building_volume_df_com[building_volume_df_com['grid_cell_index']==687]"
   ]
  },
  {
   "cell_type": "code",
   "execution_count": null,
   "id": "a1c96ca2-3301-4ba1-9a92-b9a7481b0808",
   "metadata": {},
   "outputs": [],
   "source": [
    "# calculate volume-based weights and finally, the AHF\n",
    "ahf_com = gpd.GeoDataFrame(volume_by_cell_all_com, geometry='grid_geometry')\n",
    "ahf_com['VOLUME'] = ahf_com['VOLUME'].fillna(0)\n",
    "ahf_com['vol_frac'] = ahf_com['VOLUME']/total_building_vol_usc_com\n",
    "ahf_com['electricity_use'] = ahf_com['pct_elec']*ahf_com['usage_joules']*ahf_com['vol_frac']\n",
    "ahf_com['ahf'] = ahf_com['electricity_use']/cell_area/seconds_in_year\n",
    "ahf_com"
   ]
  },
  {
   "cell_type": "code",
   "execution_count": null,
   "id": "05cef142-1b94-41ff-a27f-ccbca76e7a1c",
   "metadata": {},
   "outputs": [],
   "source": [
    "ahf_com[ahf_com['ahf']>20]"
   ]
  },
  {
   "cell_type": "code",
   "execution_count": null,
   "id": "bed2b9ea-568e-4d5f-934b-771a610c2bad",
   "metadata": {},
   "outputs": [],
   "source": [
    "ahf_com.head()"
   ]
  },
  {
   "cell_type": "code",
   "execution_count": null,
   "id": "238592fb-4317-4140-b273-0dad7fdf802d",
   "metadata": {},
   "outputs": [],
   "source": [
    "# plot to visualize\n",
    "ax = ahf_com.plot(figsize=(10,10), column='ahf', alpha=0.7, legend=True, cmap='YlOrRd')#, vmin=0, vmax=5, legend_kwds={'label':'Anthropogenic heat flux [W/$m^2$]'})\n",
    "ax.get_xaxis().get_major_formatter().set_useOffset(False)\n",
    "ctx.add_basemap(ax, source=ctx.providers.Stamen.Toner, crs=lariac_usc_merged_inner.crs) # notice the crs must match between basemap and data\n",
    "grid_usc_com.plot(ax=ax, facecolor=\"none\", edgecolor='gray')\n",
    "buildings_usc_overlay_intersection_com.plot(ax=ax, facecolor=\"none\", edgecolor='blue', alpha=0.4)\n",
    "ax.xaxis.set_major_formatter(FormatStrFormatter('%.3f'))\n",
    "ax.yaxis.set_major_formatter(FormatStrFormatter('%.3f'))"
   ]
  },
  {
   "cell_type": "code",
   "execution_count": null,
   "id": "6b55c433-2d56-46af-9e25-e7bbb1f6f706",
   "metadata": {},
   "outputs": [],
   "source": [
    "\"\"\"\n",
    "I noticed that some AHF values for some cells seemed to be suspiciously large.\n",
    "Turns out this is due to mixed-use buildings and some parking lots included as commercial structures. \n",
    "Temporary solution: weight by building footprint instead of volume until more permanent solution.\n",
    "\"\"\"\n",
    "# === Weight by area ===\n",
    "# total building area in this neighborhood?\n",
    "total_building_area_usc_com = buildings_usc_overlay_intersection_com['AREA'].sum()\n",
    "\n",
    "# add column that describes the fraction of the whole building that segment represents\n",
    "buildings_usc_overlay_intersection_com['building_fraction'] = buildings_usc_overlay_intersection_com.to_crs('epsg:3857').geometry.area/buildings_usc_overlay_intersection_com['shape_area_whole']\n",
    "buildings_usc_overlay_intersection_com['AREA'] = buildings_usc_overlay_intersection_com['building_fraction']*buildings_usc_overlay_intersection_com['AREA']\n",
    "\n",
    "# df of total building volume in each grid cell\n",
    "building_area_df_com = buildings_usc_overlay_intersection_com[['grid_cell_index', 'AREA']]\n",
    "area_by_cell_com = building_area_df_com.groupby('grid_cell_index').sum()\n",
    "# make the index a column\n",
    "area_by_cell_com.reset_index(inplace=True)\n",
    "\n",
    "# add cells with no buildings \n",
    "area_by_cell_all_com = area_by_cell_com.merge(grid_usc_com, how='outer') # outer join\n",
    "area_by_cell_all_com = area_by_cell_all_com[['grid_cell_index','AREA','pct_elec','usage_joules','grid_geometry']] # only keep these columns"
   ]
  },
  {
   "cell_type": "code",
   "execution_count": null,
   "id": "27904e04-897e-4de8-a15e-19a2862c5095",
   "metadata": {},
   "outputs": [],
   "source": [
    "# calculate AREA-based weights and finally, the AHF\n",
    "ahf_com['AREA'] = area_by_cell_all_com['AREA']\n",
    "ahf_com['AREA'] = ahf_com['AREA'].fillna(0)\n",
    "ahf_com['area_frac'] = ahf_com['AREA']/total_building_area_usc_com\n",
    "ahf_com['electricity_use_area_weighted'] = ahf_com['pct_elec']*ahf_com['usage_joules']*ahf_com['area_frac']\n",
    "ahf_com['ahf_area_weighted'] = ahf_com['electricity_use_area_weighted']/cell_area/seconds_in_year\n",
    "ahf_com.head()"
   ]
  },
  {
   "cell_type": "code",
   "execution_count": null,
   "id": "2fd4d6c6-c49c-4b3c-9e82-246b5f8dcb89",
   "metadata": {},
   "outputs": [],
   "source": [
    "# plot to visualize\n",
    "ax = ahf_com.plot(figsize=(10,10), column='ahf_area_weighted', alpha=0.7, legend=True, cmap='YlOrRd', vmin=0, vmax=6, legend_kwds={'label':'Anthropogenic heat flux [W/$m^2$]'})\n",
    "ax.get_xaxis().get_major_formatter().set_useOffset(False)\n",
    "ctx.add_basemap(ax, source=ctx.providers.Stamen.Toner, crs=lariac_usc_merged_inner.crs) # notice the crs must match between basemap and data\n",
    "grid_usc_com.plot(ax=ax, facecolor=\"none\", edgecolor='gray')\n",
    "buildings_usc_overlay_intersection_com.plot(ax=ax, facecolor=\"none\", edgecolor='blue', alpha=0.4)\n",
    "ax.xaxis.set_major_formatter(FormatStrFormatter('%.3f'))\n",
    "ax.yaxis.set_major_formatter(FormatStrFormatter('%.3f'))"
   ]
  },
  {
   "cell_type": "code",
   "execution_count": null,
   "id": "4b97e377-0de4-40f5-8aaa-294a5a9ee0ca",
   "metadata": {},
   "outputs": [],
   "source": [
    "ahf.head()"
   ]
  },
  {
   "cell_type": "code",
   "execution_count": null,
   "id": "7704abdf-a7d0-475f-91d1-d8d4b90da7a5",
   "metadata": {},
   "outputs": [],
   "source": [
    "ahf_com.head()"
   ]
  },
  {
   "cell_type": "code",
   "execution_count": null,
   "id": "049e7eb1-1306-44c6-a88b-f1df8ed600d5",
   "metadata": {},
   "outputs": [],
   "source": [
    "# plot AHF with naive averaging (i.e., no building volume weights)\n",
    "ahf_com['electricity_use_naive'] = (ahf_com['pct_elec']*ahf_com['usage_joules'])/n_cells\n",
    "ahf_com['ahf_naive'] = ahf_com['electricity_use_naive']/cell_area/seconds_in_year\n",
    "ax = ahf_com.plot(figsize=(10,10), column='ahf_naive', alpha=0.7, legend=True, cmap='YlOrRd', vmin=0, vmax=6,legend_kwds={'label':'Anthropogenic heat flux [W/$m^2$]'})\n",
    "ax.get_xaxis().get_major_formatter().set_useOffset(False)\n",
    "ctx.add_basemap(ax, source=ctx.providers.Stamen.Toner, crs=lariac_usc_merged_inner.crs) # notice the crs must match between basemap and data\n",
    "grid_usc_com.plot(ax=ax, facecolor=\"none\", edgecolor='gray')\n",
    "buildings_usc_overlay_intersection_com.plot(ax=ax, facecolor=\"none\", edgecolor='blue', alpha=0.2)\n",
    "ax.xaxis.set_major_formatter(FormatStrFormatter('%.3f'))\n",
    "ax.yaxis.set_major_formatter(FormatStrFormatter('%.3f'))"
   ]
  },
  {
   "cell_type": "markdown",
   "id": "080510f0-f761-4ee8-b4d5-6164bd688fe8",
   "metadata": {
    "jp-MarkdownHeadingCollapsed": true,
    "tags": []
   },
   "source": [
    "## Commercial + Residential Combined"
   ]
  },
  {
   "cell_type": "markdown",
   "id": "9f2d42de-772a-4a1f-a736-32b33bb47733",
   "metadata": {
    "jp-MarkdownHeadingCollapsed": true,
    "tags": []
   },
   "source": [
    "### Proof of concept: University Park neighborhood"
   ]
  },
  {
   "cell_type": "code",
   "execution_count": null,
   "id": "d6eb4ce1-0f15-46d3-bdfe-469f13ab1f25",
   "metadata": {},
   "outputs": [],
   "source": [
    "ahf_combined = ahf.copy()\n",
    "ahf_combined['ahf'] = ahf['ahf'] + ahf_com['ahf_area_weighted']\n",
    "ahf_combined['ahf_naive'] = ahf['ahf_naive'] + ahf_com['ahf_naive']"
   ]
  },
  {
   "cell_type": "code",
   "execution_count": null,
   "id": "9e9678d2-cb08-4887-a64f-22d25e67e5f8",
   "metadata": {},
   "outputs": [],
   "source": [
    "# plot with building weighting applied\n",
    "ax = ahf_combined.plot(figsize=(10,10), column='ahf', alpha=0.7, legend=True, cmap='YlOrRd', vmin=0, vmax=6, legend_kwds={'label':'Anthropogenic heat flux [W/$m^2$]'})\n",
    "ax.get_xaxis().get_major_formatter().set_useOffset(False)\n",
    "ctx.add_basemap(ax, source=ctx.providers.Stamen.Toner, crs=lariac_usc_merged_inner.crs) # notice the crs must match between basemap and data\n",
    "grid_usc.plot(ax=ax, facecolor=\"none\", edgecolor='gray')\n",
    "buildings_usc_overlay_intersection.plot(ax=ax, facecolor=\"none\", edgecolor='blue', alpha=0.2)\n",
    "buildings_usc_overlay_intersection_com.plot(ax=ax, facecolor=\"none\", edgecolor='blue', alpha=0.2)\n",
    "ax.xaxis.set_major_formatter(FormatStrFormatter('%.3f'))\n",
    "ax.yaxis.set_major_formatter(FormatStrFormatter('%.3f'))"
   ]
  },
  {
   "cell_type": "code",
   "execution_count": null,
   "id": "b686b878-149d-4754-b755-e92a0d0f1442",
   "metadata": {},
   "outputs": [],
   "source": [
    "# plot without building weighting (i.e., naive)\n",
    "ax = ahf_com.plot(figsize=(10,10), column='ahf_naive', alpha=0.7, legend=True, cmap='YlOrRd', vmin=0, vmax=6, legend_kwds={'label':'Anthropogenic heat flux [W/$m^2$]'})\n",
    "ax.get_xaxis().get_major_formatter().set_useOffset(False)\n",
    "ctx.add_basemap(ax, source=ctx.providers.Stamen.Toner, crs=lariac_usc_merged_inner.crs) # notice the crs must match between basemap and data\n",
    "grid_usc.plot(ax=ax, facecolor=\"none\", edgecolor='gray')\n",
    "buildings_usc_overlay_intersection.plot(ax=ax, facecolor=\"none\", edgecolor='blue', alpha=0.2)\n",
    "buildings_usc_overlay_intersection_com.plot(ax=ax, facecolor=\"none\", edgecolor='blue', alpha=0.2)\n",
    "ax.xaxis.set_major_formatter(FormatStrFormatter('%.3f'))\n",
    "ax.yaxis.set_major_formatter(FormatStrFormatter('%.3f'))"
   ]
  },
  {
   "cell_type": "code",
   "execution_count": null,
   "id": "4893e43c-b772-4dc0-a830-18df1ac91898",
   "metadata": {},
   "outputs": [],
   "source": []
  }
 ],
 "metadata": {
  "kernelspec": {
   "display_name": "Python [conda env:geo_env]",
   "language": "python",
   "name": "conda-env-geo_env-py"
  },
  "language_info": {
   "codemirror_mode": {
    "name": "ipython",
    "version": 3
   },
   "file_extension": ".py",
   "mimetype": "text/x-python",
   "name": "python",
   "nbconvert_exporter": "python",
   "pygments_lexer": "ipython3",
   "version": "3.10.2"
  }
 },
 "nbformat": 4,
 "nbformat_minor": 5
}
