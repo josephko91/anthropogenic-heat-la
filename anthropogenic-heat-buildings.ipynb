{
 "cells": [
  {
   "cell_type": "markdown",
   "id": "5db80ce4",
   "metadata": {},
   "source": [
    "## Anthropogenic heat from buildings"
   ]
  },
  {
   "cell_type": "markdown",
   "id": "cb87a6f4",
   "metadata": {},
   "source": [
    "This notebook is used to process building energy use, analyze data, and ultimately produce the anthropogenic heat flux (AHF) from buildings for the Greater Los Angeles (LA) region."
   ]
  },
  {
   "cell_type": "code",
   "execution_count": 12,
   "id": "cc900c8b",
   "metadata": {},
   "outputs": [],
   "source": [
    "# load necessary packages \n",
    "import os\n",
    "from pathlib import Path\n",
    "import zipfile"
   ]
  },
  {
   "cell_type": "markdown",
   "id": "00c35bc9",
   "metadata": {},
   "source": [
    "## Import data from data repositories"
   ]
  },
  {
   "cell_type": "markdown",
   "id": "a2a8eec4",
   "metadata": {},
   "source": [
    "Import Energy Atlas data from Kaggle repo"
   ]
  },
  {
   "cell_type": "code",
   "execution_count": 16,
   "id": "71194905",
   "metadata": {},
   "outputs": [
    {
     "name": "stdout",
     "output_type": "stream",
     "text": [
      "path found\n"
     ]
    }
   ],
   "source": [
    "energy_atlas_data_path = 'data/energy_atlas'\n",
    "if os.path.isdir(energy_atlas_data_path): # if data already exists in directory\n",
    "    print('path found')\n",
    "else: # create directory and download data if doesn't exist\n",
    "    # initialize the API\n",
    "    from kaggle.api.kaggle_api_extended import KaggleApi\n",
    "    api = KaggleApi()\n",
    "    api.authenticate()\n",
    "\n",
    "    # download from my Kaggle dataset page\n",
    "    dataset = 'josephko/la-energy-atlas-2016'\n",
    "    download_path = Path('data/energy_atlas')\n",
    "    api.dataset_download_files(dataset, download_path) # downloads all data in zip file\n",
    "    \n",
    "    # unzip and remove zip file\n",
    "    zip_file = download_path / 'la-energy-atlas-2016.zip'\n",
    "    with zipfile.ZipFile(zip_file) as file:\n",
    "        file.extractall(download_path)\n",
    "    os.remove(zip_file)"
   ]
  }
 ],
 "metadata": {
  "kernelspec": {
   "display_name": "ah-buildings",
   "language": "python",
   "name": "ah-buildings"
  },
  "language_info": {
   "codemirror_mode": {
    "name": "ipython",
    "version": 3
   },
   "file_extension": ".py",
   "mimetype": "text/x-python",
   "name": "python",
   "nbconvert_exporter": "python",
   "pygments_lexer": "ipython3",
   "version": "3.10.2"
  }
 },
 "nbformat": 4,
 "nbformat_minor": 5
}
