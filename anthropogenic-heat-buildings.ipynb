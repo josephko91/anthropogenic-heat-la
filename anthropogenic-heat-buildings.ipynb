{
 "cells": [
  {
   "cell_type": "markdown",
   "id": "5db80ce4",
   "metadata": {},
   "source": [
    "## Anthropogenic heat from buildings"
   ]
  },
  {
   "cell_type": "markdown",
   "id": "cb87a6f4",
   "metadata": {},
   "source": [
    "This notebook is used to process building energy use, analyze data, and ultimately produce the anthropogenic heat flux (AHF) from buildings for the Greater Los Angeles (LA) region."
   ]
  },
  {
   "cell_type": "code",
   "execution_count": null,
   "id": "cc900c8b",
   "metadata": {},
   "outputs": [],
   "source": [
    "# load necessary packages \n"
   ]
  },
  {
   "cell_type": "markdown",
   "id": "00c35bc9",
   "metadata": {},
   "source": [
    "## Import data from data repositories"
   ]
  },
  {
   "cell_type": "markdown",
   "id": "a2a8eec4",
   "metadata": {},
   "source": [
    "Note: insert description here of data sources and their respositories. "
   ]
  },
  {
   "cell_type": "code",
   "execution_count": null,
   "id": "71194905",
   "metadata": {},
   "outputs": [],
   "source": []
  }
 ],
 "metadata": {
  "kernelspec": {
   "display_name": "Python 3 (ipykernel)",
   "language": "python",
   "name": "python3"
  },
  "language_info": {
   "codemirror_mode": {
    "name": "ipython",
    "version": 3
   },
   "file_extension": ".py",
   "mimetype": "text/x-python",
   "name": "python",
   "nbconvert_exporter": "python",
   "pygments_lexer": "ipython3",
   "version": "3.8.12"
  }
 },
 "nbformat": 4,
 "nbformat_minor": 5
}
