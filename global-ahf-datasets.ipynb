{
 "cells": [
  {
   "cell_type": "markdown",
   "id": "f59fcc61-2971-4735-8b1f-24246de62f8a",
   "metadata": {},
   "source": [
    "## Global Anthropogenic Heat Datasets from Existing Literature"
   ]
  },
  {
   "cell_type": "markdown",
   "id": "6d77f1c4-7aae-401d-8864-92b00555e116",
   "metadata": {},
   "source": [
    "This notebook explores and processes the existing global 1-km AHF datasets, namely: <br>\n",
    "- Varquez et al. 2021 (https://www.nature.com/articles/s41597-021-00850-w) <br>\n",
    "- Dong et al. 2017 (https://www.sciencedirect.com/science/article/pii/S1352231016309232)"
   ]
  },
  {
   "cell_type": "code",
   "execution_count": null,
   "id": "a39c74a3-500d-44c6-bf05-934be8f4776f",
   "metadata": {},
   "outputs": [],
   "source": [
    "# Test: import one TIF file from kaggle reposistory and plot\n"
   ]
  }
 ],
 "metadata": {
  "kernelspec": {
   "display_name": "Python 3 (ipykernel)",
   "language": "python",
   "name": "python3"
  },
  "language_info": {
   "codemirror_mode": {
    "name": "ipython",
    "version": 3
   },
   "file_extension": ".py",
   "mimetype": "text/x-python",
   "name": "python",
   "nbconvert_exporter": "python",
   "pygments_lexer": "ipython3",
   "version": "3.9.2"
  }
 },
 "nbformat": 4,
 "nbformat_minor": 5
}
