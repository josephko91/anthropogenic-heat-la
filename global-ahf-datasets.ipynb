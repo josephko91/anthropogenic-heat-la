{
 "cells": [
  {
   "cell_type": "markdown",
   "id": "f59fcc61-2971-4735-8b1f-24246de62f8a",
   "metadata": {},
   "source": [
    "# Global Anthropogenic Heat Datasets from Existing Literature"
   ]
  },
  {
   "cell_type": "markdown",
   "id": "6d77f1c4-7aae-401d-8864-92b00555e116",
   "metadata": {},
   "source": [
    "This notebook explores and processes the existing global 1-km AHF datasets, namely: <br>\n",
    "- Varquez et al. 2021 (https://www.nature.com/articles/s41597-021-00850-w) <br>\n",
    "- Dong et al. 2017 (https://www.sciencedirect.com/science/article/pii/S1352231016309232)"
   ]
  },
  {
   "cell_type": "markdown",
   "id": "641d32ee-9463-4050-be95-ae2ed0365461",
   "metadata": {},
   "source": [
    "## Testing access to data stored in Kaggle repo: [insert name]"
   ]
  },
  {
   "cell_type": "code",
   "execution_count": 1,
   "id": "a39c74a3-500d-44c6-bf05-934be8f4776f",
   "metadata": {},
   "outputs": [
    {
     "ename": "ModuleNotFoundError",
     "evalue": "No module named 'kaggle'",
     "output_type": "error",
     "traceback": [
      "\u001b[0;31m---------------------------------------------------------------------------\u001b[0m",
      "\u001b[0;31mModuleNotFoundError\u001b[0m                       Traceback (most recent call last)",
      "\u001b[0;32m/tmp/SLURM_7670222/ipykernel_19960/3726661443.py\u001b[0m in \u001b[0;36m<module>\u001b[0;34m\u001b[0m\n\u001b[1;32m      1\u001b[0m \u001b[0;31m# initialize kaggle API\u001b[0m\u001b[0;34m\u001b[0m\u001b[0;34m\u001b[0m\u001b[0;34m\u001b[0m\u001b[0m\n\u001b[0;32m----> 2\u001b[0;31m \u001b[0;32mfrom\u001b[0m \u001b[0mkaggle\u001b[0m\u001b[0;34m.\u001b[0m\u001b[0mapi\u001b[0m\u001b[0;34m.\u001b[0m\u001b[0mkaggle_api_extended\u001b[0m \u001b[0;32mimport\u001b[0m \u001b[0mKaggleApi\u001b[0m\u001b[0;34m\u001b[0m\u001b[0;34m\u001b[0m\u001b[0m\n\u001b[0m\u001b[1;32m      3\u001b[0m \u001b[0mapi\u001b[0m \u001b[0;34m=\u001b[0m \u001b[0mKaggleApi\u001b[0m\u001b[0;34m(\u001b[0m\u001b[0;34m)\u001b[0m\u001b[0;34m\u001b[0m\u001b[0;34m\u001b[0m\u001b[0m\n\u001b[1;32m      4\u001b[0m \u001b[0mapi\u001b[0m\u001b[0;34m.\u001b[0m\u001b[0mauthenticate\u001b[0m\u001b[0;34m(\u001b[0m\u001b[0;34m)\u001b[0m\u001b[0;34m\u001b[0m\u001b[0;34m\u001b[0m\u001b[0m\n\u001b[1;32m      5\u001b[0m \u001b[0;34m\u001b[0m\u001b[0m\n",
      "\u001b[0;31mModuleNotFoundError\u001b[0m: No module named 'kaggle'"
     ]
    }
   ],
   "source": [
    "# initialize kaggle API\n",
    "from kaggle.api.kaggle_api_extended import KaggleApi\n",
    "api = KaggleApi()\n",
    "api.authenticate()\n",
    "\n",
    "# download from my Kaggle dataset page\n",
    "dataset = 'josephko/ahf-varquez-2021'\n",
    "download_path = Path('data/ahf-varquez-2021')\n",
    "api.dataset_download_file(dataset, 'AHE_SSP3_2010_07_12HR_UTC.tif', download_path) # download a single file from dataset\n",
    "# api.dataset_download_files(dataset, download_path) # downloads all data in zip file\n",
    "\n",
    "# # unzip and remove zip file\n",
    "# zip_file = download_path / 'la-energy-atlas-2016.zip'\n",
    "# with zipfile.ZipFile(zip_file) as file:\n",
    "#     file.extractall(download_path)\n",
    "# os.remove(zip_file)"
   ]
  },
  {
   "cell_type": "markdown",
   "id": "caae9167-5f36-4c99-8da1-10d64b6cd9e1",
   "metadata": {},
   "source": [
    "If running on HPC, the files are already located in the project directory."
   ]
  },
  {
   "cell_type": "code",
   "execution_count": null,
   "id": "7de9081e-6672-47b1-bbd0-f271f21eb4eb",
   "metadata": {},
   "outputs": [],
   "source": [
    "# file located in -> /project/banweiss_274/kojoseph/AH_datasets\n",
    "# "
   ]
  }
 ],
 "metadata": {
  "kernelspec": {
   "display_name": "Python 3 (ipykernel)",
   "language": "python",
   "name": "python3"
  },
  "language_info": {
   "codemirror_mode": {
    "name": "ipython",
    "version": 3
   },
   "file_extension": ".py",
   "mimetype": "text/x-python",
   "name": "python",
   "nbconvert_exporter": "python",
   "pygments_lexer": "ipython3",
   "version": "3.10.2"
  }
 },
 "nbformat": 4,
 "nbformat_minor": 5
}
