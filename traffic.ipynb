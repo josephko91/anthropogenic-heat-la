{
 "cells": [
  {
   "cell_type": "markdown",
   "id": "b61997b3-fb65-482d-8fdb-da4049692b33",
   "metadata": {},
   "source": [
    "# Anthropogenic heat from vehicular traffic"
   ]
  },
  {
   "cell_type": "markdown",
   "id": "4f8f28e2-84be-40cd-93b4-e36b92570dda",
   "metadata": {},
   "source": [
    "This notebook is used to process population data, and ultimately produce the anthropogenic heat flux (AHF) from vehicular traffic for the Greater Los Angeles (LA) region."
   ]
  },
  {
   "cell_type": "code",
   "execution_count": null,
   "id": "50bd2adc-ec5f-48ad-872c-d2993ed78613",
   "metadata": {},
   "outputs": [],
   "source": []
  }
 ],
 "metadata": {
  "kernelspec": {
   "display_name": "Python [conda env:geo_env]",
   "language": "python",
   "name": "conda-env-geo_env-py"
  },
  "language_info": {
   "codemirror_mode": {
    "name": "ipython",
    "version": 3
   },
   "file_extension": ".py",
   "mimetype": "text/x-python",
   "name": "python",
   "nbconvert_exporter": "python",
   "pygments_lexer": "ipython3",
   "version": "3.10.2"
  }
 },
 "nbformat": 4,
 "nbformat_minor": 5
}
