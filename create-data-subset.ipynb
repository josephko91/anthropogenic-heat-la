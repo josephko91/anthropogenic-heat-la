{
 "cells": [
  {
   "cell_type": "markdown",
   "id": "284c4f9b-f6d0-4908-b999-dde825c1534c",
   "metadata": {},
   "source": [
    "Author: Joseph Ko  \n",
    "Last update: 2/5/23  \n",
    "This notebook creates a subset of the AHF input data.  \n",
    "Input data is used for subsequent processing / calculations to create AHF dataset."
   ]
  },
  {
   "cell_type": "code",
   "execution_count": 2,
   "id": "dbd1e06e-d8ad-41f4-9450-b4d83afdd10b",
   "metadata": {},
   "outputs": [],
   "source": [
    "# load packages \n",
    "%matplotlib inline\n",
    "import os\n",
    "import glob\n",
    "from pathlib import Path\n",
    "import zipfile\n",
    "import pandas as pd\n",
    "import matplotlib.pyplot as plt\n",
    "import geopandas as gpd\n",
    "import pyproj\n",
    "import shapely.geometry\n",
    "import contextily as ctx\n",
    "from matplotlib.ticker import FormatStrFormatter\n",
    "import dask_geopandas as dgpd\n",
    "import numpy as np"
   ]
  },
  {
   "cell_type": "code",
   "execution_count": 3,
   "id": "77e01b0f-f18c-40d4-9666-48b3d3e92f3a",
   "metadata": {},
   "outputs": [],
   "source": [
    "# define paths\n",
    "raw_data = Path('raw_data')"
   ]
  },
  {
   "cell_type": "markdown",
   "id": "55117b55-b775-4715-96b9-ad795a6dacf7",
   "metadata": {},
   "source": [
    "# Define subset domain"
   ]
  },
  {
   "cell_type": "markdown",
   "id": "59d431b7-8acc-4c9b-8263-431a3ca3b25c",
   "metadata": {},
   "source": [
    "Subset of LA neighborhoods chosen to reduce computational time for sample code.\n",
    "12 neighborhoods around Central LA are chosen as a sample subset:\n",
    "- East Hollywood, Silver Lake, Echo Park, Chinatown, Downtown, Historic South-central, University Park, Adams-normandie, Harvard Heights, Pico-Union, Westlake, Koreatown"
   ]
  },
  {
   "cell_type": "code",
   "execution_count": null,
   "id": "3cc57bd9-12b3-4743-ad6e-7c3c69b71cf6",
   "metadata": {},
   "outputs": [],
   "source": [
    "# load LA boundaries \n",
    "nhds = \n",
    "nhds_list = ['East Hollywood', 'Silver Lake', 'Echo Park', \n",
    "             'Chinatown', 'Downtown', 'Historic South-central', \n",
    "             'University Park', 'Adams-normandie', 'Harvard Heights', \n",
    "             'Pico-Union', 'Westlake', 'Koreatown']\n",
    "nhds_subset = "
   ]
  },
  {
   "cell_type": "code",
   "execution_count": null,
   "id": "14131af3-d312-4bbf-8cb1-06023f8b5e53",
   "metadata": {},
   "outputs": [],
   "source": []
  },
  {
   "cell_type": "markdown",
   "id": "eea37da4-86b6-4e9e-b303-b349440f2590",
   "metadata": {},
   "source": [
    "# Building data"
   ]
  },
  {
   "cell_type": "markdown",
   "id": "337a4675-8efb-4f04-a037-d00867d0f028",
   "metadata": {},
   "source": [
    "Datasets used:  \n",
    "- UCLA Energy Atlas (https://energyatlas.ucla.edu/)\n",
    "- Parcel information, LA County (source)\n",
    "- Building geometry, LARIAC (source)\n",
    "- County-wide energy consumption, CEC (source)\n",
    "- smart meter electricity consumption, SCE (source)\n",
    "- smart meter natural gas consumption, SoCalGas (source)\n",
    "- modeled commercial natural gas consumption, ComStock (source)\n",
    "- modeled residential natural gas consumption, ResStock (source)"
   ]
  },
  {
   "cell_type": "markdown",
   "id": "bfb1d932-a1c3-4760-a2ad-384c28a5ea08",
   "metadata": {},
   "source": [
    "## UCLA Energy Atlas"
   ]
  },
  {
   "cell_type": "code",
   "execution_count": null,
   "id": "b549820b-a1cb-4d6d-ab1e-efdfb38baa03",
   "metadata": {},
   "outputs": [],
   "source": [
    "# import full dataset\n"
   ]
  },
  {
   "cell_type": "code",
   "execution_count": null,
   "id": "1b72078f-5409-42ad-a4e2-dbbb3c9a5824",
   "metadata": {},
   "outputs": [],
   "source": []
  },
  {
   "cell_type": "code",
   "execution_count": null,
   "id": "186ea78c-b567-40fd-8484-ea73bf3fde16",
   "metadata": {},
   "outputs": [],
   "source": []
  },
  {
   "cell_type": "code",
   "execution_count": null,
   "id": "3af844d2-0926-483d-b98f-d374b0325ae3",
   "metadata": {},
   "outputs": [],
   "source": []
  },
  {
   "cell_type": "code",
   "execution_count": null,
   "id": "b2413460-3f80-47da-830d-19e1546bbbeb",
   "metadata": {},
   "outputs": [],
   "source": []
  },
  {
   "cell_type": "code",
   "execution_count": null,
   "id": "81e39f98-6e35-4747-9c3a-d42cea3bd294",
   "metadata": {},
   "outputs": [],
   "source": []
  },
  {
   "cell_type": "code",
   "execution_count": null,
   "id": "38bd8d2f-4b8e-4aa3-a8fd-8916cf3d39ec",
   "metadata": {},
   "outputs": [],
   "source": []
  },
  {
   "cell_type": "markdown",
   "id": "3a59ee79-0a1f-4611-a242-373220460c59",
   "metadata": {},
   "source": [
    "# Traffic data"
   ]
  },
  {
   "cell_type": "code",
   "execution_count": null,
   "id": "f7ead4d1-ef59-45fb-b127-214c5ffe085a",
   "metadata": {},
   "outputs": [],
   "source": []
  },
  {
   "cell_type": "code",
   "execution_count": null,
   "id": "dd0d9764-952d-4125-aeb0-fb0c3d1949d7",
   "metadata": {},
   "outputs": [],
   "source": []
  },
  {
   "cell_type": "markdown",
   "id": "a80fcbc7-42f3-4193-8a4b-7661078dec3e",
   "metadata": {},
   "source": [
    "# Metabolism data"
   ]
  },
  {
   "cell_type": "code",
   "execution_count": null,
   "id": "9dd11e6d-e12f-458e-b096-737efbe4df9b",
   "metadata": {},
   "outputs": [],
   "source": []
  },
  {
   "cell_type": "code",
   "execution_count": null,
   "id": "6b52963f-71d4-4c87-8265-1f4e5d6a4af0",
   "metadata": {},
   "outputs": [],
   "source": []
  },
  {
   "cell_type": "code",
   "execution_count": null,
   "id": "7067307c-9886-4e7b-a9b7-2b20a01f4739",
   "metadata": {},
   "outputs": [],
   "source": []
  }
 ],
 "metadata": {
  "kernelspec": {
   "display_name": "geo_env_clone",
   "language": "python",
   "name": "myenv"
  },
  "language_info": {
   "codemirror_mode": {
    "name": "ipython",
    "version": 3
   },
   "file_extension": ".py",
   "mimetype": "text/x-python",
   "name": "python",
   "nbconvert_exporter": "python",
   "pygments_lexer": "ipython3",
   "version": "3.9.13"
  }
 },
 "nbformat": 4,
 "nbformat_minor": 5
}
